{
  "cells": [
    {
      "cell_type": "markdown",
      "metadata": {
        "id": "604ef45f"
      },
      "source": [
        "## Library Versions\n",
        "\n",
        "### Subtask:\n",
        "Print the versions of the key libraries used in this notebook."
      ]
    },
    {
      "cell_type": "markdown",
      "metadata": {
        "id": "b3b80dde"
      },
      "source": [
        "**Reasoning**:\n",
        "Import the necessary libraries and print their versions to help with reproducibility."
      ]
    },
    {
      "cell_type": "code",
      "execution_count": 16,
      "metadata": {
        "colab": {
          "base_uri": "https://localhost:8080/"
        },
        "id": "71ce1726",
        "outputId": "a28a7aac-ac97-473f-fae9-926ce0fc0040"
      },
      "outputs": [
        {
          "name": "stdout",
          "output_type": "stream",
          "text": [
            "pandas version: 2.2.2\n",
            "scikit-learn version: 1.6.1\n",
            "joblib version: 1.5.1\n"
          ]
        }
      ],
      "source": [
        "import pandas as pd\n",
        "import sklearn\n",
        "import joblib\n",
        "\n",
        "print(f\"pandas version: {pd.__version__}\")\n",
        "print(f\"scikit-learn version: {sklearn.__version__}\")\n",
        "print(f\"joblib version: {joblib.__version__}\")"
      ]
    },
    {
      "cell_type": "markdown",
      "metadata": {
        "id": "4e298ff9"
      },
      "source": [
        "## Data loading\n",
        "\n",
        "### Subtask:\n",
        "Load the dataset from the provided CSV file into a pandas DataFrame.\n"
      ]
    },
    {
      "cell_type": "markdown",
      "metadata": {
        "id": "8014e6bd"
      },
      "source": [
        "**Reasoning**:\n",
        "Import pandas and load the dataset into a DataFrame, then display the head and info of the DataFrame to inspect it.\n",
        "\n"
      ]
    },
    {
      "cell_type": "code",
      "execution_count": 1,
      "metadata": {
        "colab": {
          "base_uri": "https://localhost:8080/",
          "height": 504
        },
        "id": "45c6005b",
        "outputId": "e87f3114-0f7d-4e3a-c727-89946015fd13"
      },
      "outputs": [
        {
          "data": {
            "application/vnd.google.colaboratory.intrinsic+json": {
              "summary": "{\n  \"name\": \"display(df\",\n  \"rows\": 5,\n  \"fields\": [\n    {\n      \"column\": \"Time_spent_Alone\",\n      \"properties\": {\n        \"dtype\": \"number\",\n        \"std\": 3.9370039370059056,\n        \"min\": 0.0,\n        \"max\": 9.0,\n        \"num_unique_values\": 4,\n        \"samples\": [\n          9.0,\n          3.0,\n          4.0\n        ],\n        \"semantic_type\": \"\",\n        \"description\": \"\"\n      }\n    },\n    {\n      \"column\": \"Stage_fear\",\n      \"properties\": {\n        \"dtype\": \"category\",\n        \"num_unique_values\": 2,\n        \"samples\": [\n          \"Yes\",\n          \"No\"\n        ],\n        \"semantic_type\": \"\",\n        \"description\": \"\"\n      }\n    },\n    {\n      \"column\": \"Social_event_attendance\",\n      \"properties\": {\n        \"dtype\": \"number\",\n        \"std\": 3.6742346141747673,\n        \"min\": 0.0,\n        \"max\": 9.0,\n        \"num_unique_values\": 5,\n        \"samples\": [\n          0.0,\n          9.0\n        ],\n        \"semantic_type\": \"\",\n        \"description\": \"\"\n      }\n    },\n    {\n      \"column\": \"Going_outside\",\n      \"properties\": {\n        \"dtype\": \"number\",\n        \"std\": 2.863564212655271,\n        \"min\": 0.0,\n        \"max\": 7.0,\n        \"num_unique_values\": 5,\n        \"samples\": [\n          0.0,\n          4.0\n        ],\n        \"semantic_type\": \"\",\n        \"description\": \"\"\n      }\n    },\n    {\n      \"column\": \"Drained_after_socializing\",\n      \"properties\": {\n        \"dtype\": \"category\",\n        \"num_unique_values\": 2,\n        \"samples\": [\n          \"Yes\",\n          \"No\"\n        ],\n        \"semantic_type\": \"\",\n        \"description\": \"\"\n      }\n    },\n    {\n      \"column\": \"Friends_circle_size\",\n      \"properties\": {\n        \"dtype\": \"number\",\n        \"std\": 5.787918451395113,\n        \"min\": 0.0,\n        \"max\": 14.0,\n        \"num_unique_values\": 5,\n        \"samples\": [\n          0.0,\n          8.0\n        ],\n        \"semantic_type\": \"\",\n        \"description\": \"\"\n      }\n    },\n    {\n      \"column\": \"Post_frequency\",\n      \"properties\": {\n        \"dtype\": \"number\",\n        \"std\": 2.3021728866442674,\n        \"min\": 2.0,\n        \"max\": 8.0,\n        \"num_unique_values\": 4,\n        \"samples\": [\n          3.0,\n          8.0\n        ],\n        \"semantic_type\": \"\",\n        \"description\": \"\"\n      }\n    },\n    {\n      \"column\": \"Personality\",\n      \"properties\": {\n        \"dtype\": \"category\",\n        \"num_unique_values\": 2,\n        \"samples\": [\n          \"Introvert\",\n          \"Extrovert\"\n        ],\n        \"semantic_type\": \"\",\n        \"description\": \"\"\n      }\n    }\n  ]\n}",
              "type": "dataframe"
            },
            "text/html": [
              "\n",
              "  <div id=\"df-2e3de32b-cfda-462c-a8b3-142eeccbc05f\" class=\"colab-df-container\">\n",
              "    <div>\n",
              "<style scoped>\n",
              "    .dataframe tbody tr th:only-of-type {\n",
              "        vertical-align: middle;\n",
              "    }\n",
              "\n",
              "    .dataframe tbody tr th {\n",
              "        vertical-align: top;\n",
              "    }\n",
              "\n",
              "    .dataframe thead th {\n",
              "        text-align: right;\n",
              "    }\n",
              "</style>\n",
              "<table border=\"1\" class=\"dataframe\">\n",
              "  <thead>\n",
              "    <tr style=\"text-align: right;\">\n",
              "      <th></th>\n",
              "      <th>Time_spent_Alone</th>\n",
              "      <th>Stage_fear</th>\n",
              "      <th>Social_event_attendance</th>\n",
              "      <th>Going_outside</th>\n",
              "      <th>Drained_after_socializing</th>\n",
              "      <th>Friends_circle_size</th>\n",
              "      <th>Post_frequency</th>\n",
              "      <th>Personality</th>\n",
              "    </tr>\n",
              "  </thead>\n",
              "  <tbody>\n",
              "    <tr>\n",
              "      <th>0</th>\n",
              "      <td>4.0</td>\n",
              "      <td>No</td>\n",
              "      <td>4.0</td>\n",
              "      <td>6.0</td>\n",
              "      <td>No</td>\n",
              "      <td>13.0</td>\n",
              "      <td>5.0</td>\n",
              "      <td>Extrovert</td>\n",
              "    </tr>\n",
              "    <tr>\n",
              "      <th>1</th>\n",
              "      <td>9.0</td>\n",
              "      <td>Yes</td>\n",
              "      <td>0.0</td>\n",
              "      <td>0.0</td>\n",
              "      <td>Yes</td>\n",
              "      <td>0.0</td>\n",
              "      <td>3.0</td>\n",
              "      <td>Introvert</td>\n",
              "    </tr>\n",
              "    <tr>\n",
              "      <th>2</th>\n",
              "      <td>9.0</td>\n",
              "      <td>Yes</td>\n",
              "      <td>1.0</td>\n",
              "      <td>2.0</td>\n",
              "      <td>Yes</td>\n",
              "      <td>5.0</td>\n",
              "      <td>2.0</td>\n",
              "      <td>Introvert</td>\n",
              "    </tr>\n",
              "    <tr>\n",
              "      <th>3</th>\n",
              "      <td>0.0</td>\n",
              "      <td>No</td>\n",
              "      <td>6.0</td>\n",
              "      <td>7.0</td>\n",
              "      <td>No</td>\n",
              "      <td>14.0</td>\n",
              "      <td>8.0</td>\n",
              "      <td>Extrovert</td>\n",
              "    </tr>\n",
              "    <tr>\n",
              "      <th>4</th>\n",
              "      <td>3.0</td>\n",
              "      <td>No</td>\n",
              "      <td>9.0</td>\n",
              "      <td>4.0</td>\n",
              "      <td>No</td>\n",
              "      <td>8.0</td>\n",
              "      <td>5.0</td>\n",
              "      <td>Extrovert</td>\n",
              "    </tr>\n",
              "  </tbody>\n",
              "</table>\n",
              "</div>\n",
              "    <div class=\"colab-df-buttons\">\n",
              "\n",
              "  <div class=\"colab-df-container\">\n",
              "    <button class=\"colab-df-convert\" onclick=\"convertToInteractive('df-2e3de32b-cfda-462c-a8b3-142eeccbc05f')\"\n",
              "            title=\"Convert this dataframe to an interactive table.\"\n",
              "            style=\"display:none;\">\n",
              "\n",
              "  <svg xmlns=\"http://www.w3.org/2000/svg\" height=\"24px\" viewBox=\"0 -960 960 960\">\n",
              "    <path d=\"M120-120v-720h720v720H120Zm60-500h600v-160H180v160Zm220 220h160v-160H400v160Zm0 220h160v-160H400v160ZM180-400h160v-160H180v160Zm440 0h160v-160H620v160ZM180-180h160v-160H180v160Zm440 0h160v-160H620v160Z\"/>\n",
              "  </svg>\n",
              "    </button>\n",
              "\n",
              "  <style>\n",
              "    .colab-df-container {\n",
              "      display:flex;\n",
              "      gap: 12px;\n",
              "    }\n",
              "\n",
              "    .colab-df-convert {\n",
              "      background-color: #E8F0FE;\n",
              "      border: none;\n",
              "      border-radius: 50%;\n",
              "      cursor: pointer;\n",
              "      display: none;\n",
              "      fill: #1967D2;\n",
              "      height: 32px;\n",
              "      padding: 0 0 0 0;\n",
              "      width: 32px;\n",
              "    }\n",
              "\n",
              "    .colab-df-convert:hover {\n",
              "      background-color: #E2EBFA;\n",
              "      box-shadow: 0px 1px 2px rgba(60, 64, 67, 0.3), 0px 1px 3px 1px rgba(60, 64, 67, 0.15);\n",
              "      fill: #174EA6;\n",
              "    }\n",
              "\n",
              "    .colab-df-buttons div {\n",
              "      margin-bottom: 4px;\n",
              "    }\n",
              "\n",
              "    [theme=dark] .colab-df-convert {\n",
              "      background-color: #3B4455;\n",
              "      fill: #D2E3FC;\n",
              "    }\n",
              "\n",
              "    [theme=dark] .colab-df-convert:hover {\n",
              "      background-color: #434B5C;\n",
              "      box-shadow: 0px 1px 3px 1px rgba(0, 0, 0, 0.15);\n",
              "      filter: drop-shadow(0px 1px 2px rgba(0, 0, 0, 0.3));\n",
              "      fill: #FFFFFF;\n",
              "    }\n",
              "  </style>\n",
              "\n",
              "    <script>\n",
              "      const buttonEl =\n",
              "        document.querySelector('#df-2e3de32b-cfda-462c-a8b3-142eeccbc05f button.colab-df-convert');\n",
              "      buttonEl.style.display =\n",
              "        google.colab.kernel.accessAllowed ? 'block' : 'none';\n",
              "\n",
              "      async function convertToInteractive(key) {\n",
              "        const element = document.querySelector('#df-2e3de32b-cfda-462c-a8b3-142eeccbc05f');\n",
              "        const dataTable =\n",
              "          await google.colab.kernel.invokeFunction('convertToInteractive',\n",
              "                                                    [key], {});\n",
              "        if (!dataTable) return;\n",
              "\n",
              "        const docLinkHtml = 'Like what you see? Visit the ' +\n",
              "          '<a target=\"_blank\" href=https://colab.research.google.com/notebooks/data_table.ipynb>data table notebook</a>'\n",
              "          + ' to learn more about interactive tables.';\n",
              "        element.innerHTML = '';\n",
              "        dataTable['output_type'] = 'display_data';\n",
              "        await google.colab.output.renderOutput(dataTable, element);\n",
              "        const docLink = document.createElement('div');\n",
              "        docLink.innerHTML = docLinkHtml;\n",
              "        element.appendChild(docLink);\n",
              "      }\n",
              "    </script>\n",
              "  </div>\n",
              "\n",
              "\n",
              "    <div id=\"df-4e2c9b59-62ef-437e-8eb6-3a72d26d9ba9\">\n",
              "      <button class=\"colab-df-quickchart\" onclick=\"quickchart('df-4e2c9b59-62ef-437e-8eb6-3a72d26d9ba9')\"\n",
              "                title=\"Suggest charts\"\n",
              "                style=\"display:none;\">\n",
              "\n",
              "<svg xmlns=\"http://www.w3.org/2000/svg\" height=\"24px\"viewBox=\"0 0 24 24\"\n",
              "     width=\"24px\">\n",
              "    <g>\n",
              "        <path d=\"M19 3H5c-1.1 0-2 .9-2 2v14c0 1.1.9 2 2 2h14c1.1 0 2-.9 2-2V5c0-1.1-.9-2-2-2zM9 17H7v-7h2v7zm4 0h-2V7h2v10zm4 0h-2v-4h2v4z\"/>\n",
              "    </g>\n",
              "</svg>\n",
              "      </button>\n",
              "\n",
              "<style>\n",
              "  .colab-df-quickchart {\n",
              "      --bg-color: #E8F0FE;\n",
              "      --fill-color: #1967D2;\n",
              "      --hover-bg-color: #E2EBFA;\n",
              "      --hover-fill-color: #174EA6;\n",
              "      --disabled-fill-color: #AAA;\n",
              "      --disabled-bg-color: #DDD;\n",
              "  }\n",
              "\n",
              "  [theme=dark] .colab-df-quickchart {\n",
              "      --bg-color: #3B4455;\n",
              "      --fill-color: #D2E3FC;\n",
              "      --hover-bg-color: #434B5C;\n",
              "      --hover-fill-color: #FFFFFF;\n",
              "      --disabled-bg-color: #3B4455;\n",
              "      --disabled-fill-color: #666;\n",
              "  }\n",
              "\n",
              "  .colab-df-quickchart {\n",
              "    background-color: var(--bg-color);\n",
              "    border: none;\n",
              "    border-radius: 50%;\n",
              "    cursor: pointer;\n",
              "    display: none;\n",
              "    fill: var(--fill-color);\n",
              "    height: 32px;\n",
              "    padding: 0;\n",
              "    width: 32px;\n",
              "  }\n",
              "\n",
              "  .colab-df-quickchart:hover {\n",
              "    background-color: var(--hover-bg-color);\n",
              "    box-shadow: 0 1px 2px rgba(60, 64, 67, 0.3), 0 1px 3px 1px rgba(60, 64, 67, 0.15);\n",
              "    fill: var(--button-hover-fill-color);\n",
              "  }\n",
              "\n",
              "  .colab-df-quickchart-complete:disabled,\n",
              "  .colab-df-quickchart-complete:disabled:hover {\n",
              "    background-color: var(--disabled-bg-color);\n",
              "    fill: var(--disabled-fill-color);\n",
              "    box-shadow: none;\n",
              "  }\n",
              "\n",
              "  .colab-df-spinner {\n",
              "    border: 2px solid var(--fill-color);\n",
              "    border-color: transparent;\n",
              "    border-bottom-color: var(--fill-color);\n",
              "    animation:\n",
              "      spin 1s steps(1) infinite;\n",
              "  }\n",
              "\n",
              "  @keyframes spin {\n",
              "    0% {\n",
              "      border-color: transparent;\n",
              "      border-bottom-color: var(--fill-color);\n",
              "      border-left-color: var(--fill-color);\n",
              "    }\n",
              "    20% {\n",
              "      border-color: transparent;\n",
              "      border-left-color: var(--fill-color);\n",
              "      border-top-color: var(--fill-color);\n",
              "    }\n",
              "    30% {\n",
              "      border-color: transparent;\n",
              "      border-left-color: var(--fill-color);\n",
              "      border-top-color: var(--fill-color);\n",
              "      border-right-color: var(--fill-color);\n",
              "    }\n",
              "    40% {\n",
              "      border-color: transparent;\n",
              "      border-right-color: var(--fill-color);\n",
              "      border-top-color: var(--fill-color);\n",
              "    }\n",
              "    60% {\n",
              "      border-color: transparent;\n",
              "      border-right-color: var(--fill-color);\n",
              "    }\n",
              "    80% {\n",
              "      border-color: transparent;\n",
              "      border-right-color: var(--fill-color);\n",
              "      border-bottom-color: var(--fill-color);\n",
              "    }\n",
              "    90% {\n",
              "      border-color: transparent;\n",
              "      border-bottom-color: var(--fill-color);\n",
              "    }\n",
              "  }\n",
              "</style>\n",
              "\n",
              "      <script>\n",
              "        async function quickchart(key) {\n",
              "          const quickchartButtonEl =\n",
              "            document.querySelector('#' + key + ' button');\n",
              "          quickchartButtonEl.disabled = true;  // To prevent multiple clicks.\n",
              "          quickchartButtonEl.classList.add('colab-df-spinner');\n",
              "          try {\n",
              "            const charts = await google.colab.kernel.invokeFunction(\n",
              "                'suggestCharts', [key], {});\n",
              "          } catch (error) {\n",
              "            console.error('Error during call to suggestCharts:', error);\n",
              "          }\n",
              "          quickchartButtonEl.classList.remove('colab-df-spinner');\n",
              "          quickchartButtonEl.classList.add('colab-df-quickchart-complete');\n",
              "        }\n",
              "        (() => {\n",
              "          let quickchartButtonEl =\n",
              "            document.querySelector('#df-4e2c9b59-62ef-437e-8eb6-3a72d26d9ba9 button');\n",
              "          quickchartButtonEl.style.display =\n",
              "            google.colab.kernel.accessAllowed ? 'block' : 'none';\n",
              "        })();\n",
              "      </script>\n",
              "    </div>\n",
              "\n",
              "    </div>\n",
              "  </div>\n"
            ],
            "text/plain": [
              "   Time_spent_Alone Stage_fear  Social_event_attendance  Going_outside  \\\n",
              "0               4.0         No                      4.0            6.0   \n",
              "1               9.0        Yes                      0.0            0.0   \n",
              "2               9.0        Yes                      1.0            2.0   \n",
              "3               0.0         No                      6.0            7.0   \n",
              "4               3.0         No                      9.0            4.0   \n",
              "\n",
              "  Drained_after_socializing  Friends_circle_size  Post_frequency Personality  \n",
              "0                        No                 13.0             5.0   Extrovert  \n",
              "1                       Yes                  0.0             3.0   Introvert  \n",
              "2                       Yes                  5.0             2.0   Introvert  \n",
              "3                        No                 14.0             8.0   Extrovert  \n",
              "4                        No                  8.0             5.0   Extrovert  "
            ]
          },
          "metadata": {},
          "output_type": "display_data"
        },
        {
          "name": "stdout",
          "output_type": "stream",
          "text": [
            "<class 'pandas.core.frame.DataFrame'>\n",
            "RangeIndex: 2900 entries, 0 to 2899\n",
            "Data columns (total 8 columns):\n",
            " #   Column                     Non-Null Count  Dtype  \n",
            "---  ------                     --------------  -----  \n",
            " 0   Time_spent_Alone           2837 non-null   float64\n",
            " 1   Stage_fear                 2827 non-null   object \n",
            " 2   Social_event_attendance    2838 non-null   float64\n",
            " 3   Going_outside              2834 non-null   float64\n",
            " 4   Drained_after_socializing  2848 non-null   object \n",
            " 5   Friends_circle_size        2823 non-null   float64\n",
            " 6   Post_frequency             2835 non-null   float64\n",
            " 7   Personality                2900 non-null   object \n",
            "dtypes: float64(5), object(3)\n",
            "memory usage: 181.4+ KB\n"
          ]
        },
        {
          "data": {
            "text/plain": [
              "None"
            ]
          },
          "metadata": {},
          "output_type": "display_data"
        }
      ],
      "source": [
        "import pandas as pd\n",
        "\n",
        "df = pd.read_csv(\"/content/personality_dataset.csv\")\n",
        "display(df.head())\n",
        "display(df.info())"
      ]
    },
    {
      "cell_type": "markdown",
      "metadata": {
        "id": "c19c14a1"
      },
      "source": [
        "## Data preprocessing\n",
        "\n",
        "### Subtask:\n",
        "Clean and prepare the data for modeling. This may include handling missing values, encoding categorical features, and scaling numerical features.\n"
      ]
    },
    {
      "cell_type": "markdown",
      "metadata": {
        "id": "0fe7eff8"
      },
      "source": [
        "**Reasoning**:\n",
        "Handle missing values, encode categorical features, and scale numerical features in the DataFrame to prepare it for modeling.\n",
        "\n"
      ]
    },
    {
      "cell_type": "code",
      "execution_count": 2,
      "metadata": {
        "colab": {
          "base_uri": "https://localhost:8080/",
          "height": 814
        },
        "id": "5f45a87b",
        "outputId": "6f66b046-b22c-48ce-c18c-c4733a46e444"
      },
      "outputs": [
        {
          "name": "stdout",
          "output_type": "stream",
          "text": [
            "Columns with missing values: ['Time_spent_Alone', 'Stage_fear', 'Social_event_attendance', 'Going_outside', 'Drained_after_socializing', 'Friends_circle_size', 'Post_frequency']\n",
            "Categorical columns: Index(['Stage_fear', 'Drained_after_socializing', 'Personality'], dtype='object')\n"
          ]
        },
        {
          "data": {
            "application/vnd.google.colaboratory.intrinsic+json": {
              "summary": "{\n  \"name\": \"display(y\",\n  \"rows\": 5,\n  \"fields\": [\n    {\n      \"column\": \"Time_spent_Alone\",\n      \"properties\": {\n        \"dtype\": \"number\",\n        \"std\": 1.1442826085976265,\n        \"min\": -1.3096067395575806,\n        \"max\": 1.3062259195305606,\n        \"num_unique_values\": 4,\n        \"samples\": [\n          1.3062259195305606,\n          -0.43766251986153354,\n          -0.14701444662951785\n        ],\n        \"semantic_type\": \"\",\n        \"description\": \"\"\n      }\n    },\n    {\n      \"column\": \"Social_event_attendance\",\n      \"properties\": {\n        \"dtype\": \"number\",\n        \"std\": 1.2792794565952974,\n        \"min\": -1.3799439860180993,\n        \"max\": 1.7536379210653195,\n        \"num_unique_values\": 5,\n        \"samples\": [\n          -1.3799439860180993,\n          1.7536379210653195,\n          -1.031768218564386\n        ],\n        \"semantic_type\": \"\",\n        \"description\": \"\"\n      }\n    },\n    {\n      \"column\": \"Going_outside\",\n      \"properties\": {\n        \"dtype\": \"number\",\n        \"std\": 1.2891886086453328,\n        \"min\": -1.3506125718583961,\n        \"max\": 1.8008167624778615,\n        \"num_unique_values\": 5,\n        \"samples\": [\n          -1.3506125718583961,\n          0.45020419061946537,\n          -0.45020419061946537\n        ],\n        \"semantic_type\": \"\",\n        \"description\": \"\"\n      }\n    },\n    {\n      \"column\": \"Friends_circle_size\",\n      \"properties\": {\n        \"dtype\": \"number\",\n        \"std\": 1.367781428645684,\n        \"min\": -1.4814366065253477,\n        \"max\": 1.8269963235246496,\n        \"num_unique_values\": 5,\n        \"samples\": [\n          -1.4814366065253477,\n          0.409096496360365,\n          -0.2998534172217773\n        ],\n        \"semantic_type\": \"\",\n        \"description\": \"\"\n      }\n    },\n    {\n      \"column\": \"Post_frequency\",\n      \"properties\": {\n        \"dtype\": \"number\",\n        \"std\": 0.7957494460544552,\n        \"min\": -0.5408500627304401,\n        \"max\": 1.5330587666304227,\n        \"num_unique_values\": 4,\n        \"samples\": [\n          -0.19519859117029634,\n          1.5330587666304227,\n          0.49610435194999125\n        ],\n        \"semantic_type\": \"\",\n        \"description\": \"\"\n      }\n    },\n    {\n      \"column\": \"Stage_fear_No\",\n      \"properties\": {\n        \"dtype\": \"number\",\n        \"std\": 0.5477225575051662,\n        \"min\": 0.0,\n        \"max\": 1.0,\n        \"num_unique_values\": 2,\n        \"samples\": [\n          0.0,\n          1.0\n        ],\n        \"semantic_type\": \"\",\n        \"description\": \"\"\n      }\n    },\n    {\n      \"column\": \"Stage_fear_Yes\",\n      \"properties\": {\n        \"dtype\": \"number\",\n        \"std\": 0.5477225575051662,\n        \"min\": 0.0,\n        \"max\": 1.0,\n        \"num_unique_values\": 2,\n        \"samples\": [\n          1.0,\n          0.0\n        ],\n        \"semantic_type\": \"\",\n        \"description\": \"\"\n      }\n    },\n    {\n      \"column\": \"Stage_fear_nan\",\n      \"properties\": {\n        \"dtype\": \"number\",\n        \"std\": 0.0,\n        \"min\": 0.0,\n        \"max\": 0.0,\n        \"num_unique_values\": 1,\n        \"samples\": [\n          0.0\n        ],\n        \"semantic_type\": \"\",\n        \"description\": \"\"\n      }\n    },\n    {\n      \"column\": \"Drained_after_socializing_No\",\n      \"properties\": {\n        \"dtype\": \"number\",\n        \"std\": 0.5477225575051662,\n        \"min\": 0.0,\n        \"max\": 1.0,\n        \"num_unique_values\": 2,\n        \"samples\": [\n          0.0\n        ],\n        \"semantic_type\": \"\",\n        \"description\": \"\"\n      }\n    },\n    {\n      \"column\": \"Drained_after_socializing_Yes\",\n      \"properties\": {\n        \"dtype\": \"number\",\n        \"std\": 0.5477225575051662,\n        \"min\": 0.0,\n        \"max\": 1.0,\n        \"num_unique_values\": 2,\n        \"samples\": [\n          1.0\n        ],\n        \"semantic_type\": \"\",\n        \"description\": \"\"\n      }\n    },\n    {\n      \"column\": \"Drained_after_socializing_nan\",\n      \"properties\": {\n        \"dtype\": \"number\",\n        \"std\": 0.0,\n        \"min\": 0.0,\n        \"max\": 0.0,\n        \"num_unique_values\": 1,\n        \"samples\": [\n          0.0\n        ],\n        \"semantic_type\": \"\",\n        \"description\": \"\"\n      }\n    }\n  ]\n}",
              "type": "dataframe"
            },
            "text/html": [
              "\n",
              "  <div id=\"df-c05d504d-f67a-4a34-8c4b-10029210e798\" class=\"colab-df-container\">\n",
              "    <div>\n",
              "<style scoped>\n",
              "    .dataframe tbody tr th:only-of-type {\n",
              "        vertical-align: middle;\n",
              "    }\n",
              "\n",
              "    .dataframe tbody tr th {\n",
              "        vertical-align: top;\n",
              "    }\n",
              "\n",
              "    .dataframe thead th {\n",
              "        text-align: right;\n",
              "    }\n",
              "</style>\n",
              "<table border=\"1\" class=\"dataframe\">\n",
              "  <thead>\n",
              "    <tr style=\"text-align: right;\">\n",
              "      <th></th>\n",
              "      <th>Time_spent_Alone</th>\n",
              "      <th>Social_event_attendance</th>\n",
              "      <th>Going_outside</th>\n",
              "      <th>Friends_circle_size</th>\n",
              "      <th>Post_frequency</th>\n",
              "      <th>Stage_fear_No</th>\n",
              "      <th>Stage_fear_Yes</th>\n",
              "      <th>Stage_fear_nan</th>\n",
              "      <th>Drained_after_socializing_No</th>\n",
              "      <th>Drained_after_socializing_Yes</th>\n",
              "      <th>Drained_after_socializing_nan</th>\n",
              "    </tr>\n",
              "  </thead>\n",
              "  <tbody>\n",
              "    <tr>\n",
              "      <th>0</th>\n",
              "      <td>-0.147014</td>\n",
              "      <td>0.012759</td>\n",
              "      <td>1.350613</td>\n",
              "      <td>1.590680</td>\n",
              "      <td>0.496104</td>\n",
              "      <td>1.0</td>\n",
              "      <td>0.0</td>\n",
              "      <td>0.0</td>\n",
              "      <td>1.0</td>\n",
              "      <td>0.0</td>\n",
              "      <td>0.0</td>\n",
              "    </tr>\n",
              "    <tr>\n",
              "      <th>1</th>\n",
              "      <td>1.306226</td>\n",
              "      <td>-1.379944</td>\n",
              "      <td>-1.350613</td>\n",
              "      <td>-1.481437</td>\n",
              "      <td>-0.195199</td>\n",
              "      <td>0.0</td>\n",
              "      <td>1.0</td>\n",
              "      <td>0.0</td>\n",
              "      <td>0.0</td>\n",
              "      <td>1.0</td>\n",
              "      <td>0.0</td>\n",
              "    </tr>\n",
              "    <tr>\n",
              "      <th>2</th>\n",
              "      <td>1.306226</td>\n",
              "      <td>-1.031768</td>\n",
              "      <td>-0.450204</td>\n",
              "      <td>-0.299853</td>\n",
              "      <td>-0.540850</td>\n",
              "      <td>0.0</td>\n",
              "      <td>1.0</td>\n",
              "      <td>0.0</td>\n",
              "      <td>0.0</td>\n",
              "      <td>1.0</td>\n",
              "      <td>0.0</td>\n",
              "    </tr>\n",
              "    <tr>\n",
              "      <th>3</th>\n",
              "      <td>-1.309607</td>\n",
              "      <td>0.709111</td>\n",
              "      <td>1.800817</td>\n",
              "      <td>1.826996</td>\n",
              "      <td>1.533059</td>\n",
              "      <td>1.0</td>\n",
              "      <td>0.0</td>\n",
              "      <td>0.0</td>\n",
              "      <td>1.0</td>\n",
              "      <td>0.0</td>\n",
              "      <td>0.0</td>\n",
              "    </tr>\n",
              "    <tr>\n",
              "      <th>4</th>\n",
              "      <td>-0.437663</td>\n",
              "      <td>1.753638</td>\n",
              "      <td>0.450204</td>\n",
              "      <td>0.409096</td>\n",
              "      <td>0.496104</td>\n",
              "      <td>1.0</td>\n",
              "      <td>0.0</td>\n",
              "      <td>0.0</td>\n",
              "      <td>1.0</td>\n",
              "      <td>0.0</td>\n",
              "      <td>0.0</td>\n",
              "    </tr>\n",
              "  </tbody>\n",
              "</table>\n",
              "</div>\n",
              "    <div class=\"colab-df-buttons\">\n",
              "\n",
              "  <div class=\"colab-df-container\">\n",
              "    <button class=\"colab-df-convert\" onclick=\"convertToInteractive('df-c05d504d-f67a-4a34-8c4b-10029210e798')\"\n",
              "            title=\"Convert this dataframe to an interactive table.\"\n",
              "            style=\"display:none;\">\n",
              "\n",
              "  <svg xmlns=\"http://www.w3.org/2000/svg\" height=\"24px\" viewBox=\"0 -960 960 960\">\n",
              "    <path d=\"M120-120v-720h720v720H120Zm60-500h600v-160H180v160Zm220 220h160v-160H400v160Zm0 220h160v-160H400v160ZM180-400h160v-160H180v160Zm440 0h160v-160H620v160ZM180-180h160v-160H180v160Zm440 0h160v-160H620v160Z\"/>\n",
              "  </svg>\n",
              "    </button>\n",
              "\n",
              "  <style>\n",
              "    .colab-df-container {\n",
              "      display:flex;\n",
              "      gap: 12px;\n",
              "    }\n",
              "\n",
              "    .colab-df-convert {\n",
              "      background-color: #E8F0FE;\n",
              "      border: none;\n",
              "      border-radius: 50%;\n",
              "      cursor: pointer;\n",
              "      display: none;\n",
              "      fill: #1967D2;\n",
              "      height: 32px;\n",
              "      padding: 0 0 0 0;\n",
              "      width: 32px;\n",
              "    }\n",
              "\n",
              "    .colab-df-convert:hover {\n",
              "      background-color: #E2EBFA;\n",
              "      box-shadow: 0px 1px 2px rgba(60, 64, 67, 0.3), 0px 1px 3px 1px rgba(60, 64, 67, 0.15);\n",
              "      fill: #174EA6;\n",
              "    }\n",
              "\n",
              "    .colab-df-buttons div {\n",
              "      margin-bottom: 4px;\n",
              "    }\n",
              "\n",
              "    [theme=dark] .colab-df-convert {\n",
              "      background-color: #3B4455;\n",
              "      fill: #D2E3FC;\n",
              "    }\n",
              "\n",
              "    [theme=dark] .colab-df-convert:hover {\n",
              "      background-color: #434B5C;\n",
              "      box-shadow: 0px 1px 3px 1px rgba(0, 0, 0, 0.15);\n",
              "      filter: drop-shadow(0px 1px 2px rgba(0, 0, 0, 0.3));\n",
              "      fill: #FFFFFF;\n",
              "    }\n",
              "  </style>\n",
              "\n",
              "    <script>\n",
              "      const buttonEl =\n",
              "        document.querySelector('#df-c05d504d-f67a-4a34-8c4b-10029210e798 button.colab-df-convert');\n",
              "      buttonEl.style.display =\n",
              "        google.colab.kernel.accessAllowed ? 'block' : 'none';\n",
              "\n",
              "      async function convertToInteractive(key) {\n",
              "        const element = document.querySelector('#df-c05d504d-f67a-4a34-8c4b-10029210e798');\n",
              "        const dataTable =\n",
              "          await google.colab.kernel.invokeFunction('convertToInteractive',\n",
              "                                                    [key], {});\n",
              "        if (!dataTable) return;\n",
              "\n",
              "        const docLinkHtml = 'Like what you see? Visit the ' +\n",
              "          '<a target=\"_blank\" href=https://colab.research.google.com/notebooks/data_table.ipynb>data table notebook</a>'\n",
              "          + ' to learn more about interactive tables.';\n",
              "        element.innerHTML = '';\n",
              "        dataTable['output_type'] = 'display_data';\n",
              "        await google.colab.output.renderOutput(dataTable, element);\n",
              "        const docLink = document.createElement('div');\n",
              "        docLink.innerHTML = docLinkHtml;\n",
              "        element.appendChild(docLink);\n",
              "      }\n",
              "    </script>\n",
              "  </div>\n",
              "\n",
              "\n",
              "    <div id=\"df-4e6262fd-592c-41c4-888a-68231ebed904\">\n",
              "      <button class=\"colab-df-quickchart\" onclick=\"quickchart('df-4e6262fd-592c-41c4-888a-68231ebed904')\"\n",
              "                title=\"Suggest charts\"\n",
              "                style=\"display:none;\">\n",
              "\n",
              "<svg xmlns=\"http://www.w3.org/2000/svg\" height=\"24px\"viewBox=\"0 0 24 24\"\n",
              "     width=\"24px\">\n",
              "    <g>\n",
              "        <path d=\"M19 3H5c-1.1 0-2 .9-2 2v14c0 1.1.9 2 2 2h14c1.1 0 2-.9 2-2V5c0-1.1-.9-2-2-2zM9 17H7v-7h2v7zm4 0h-2V7h2v10zm4 0h-2v-4h2v4z\"/>\n",
              "    </g>\n",
              "</svg>\n",
              "      </button>\n",
              "\n",
              "<style>\n",
              "  .colab-df-quickchart {\n",
              "      --bg-color: #E8F0FE;\n",
              "      --fill-color: #1967D2;\n",
              "      --hover-bg-color: #E2EBFA;\n",
              "      --hover-fill-color: #174EA6;\n",
              "      --disabled-fill-color: #AAA;\n",
              "      --disabled-bg-color: #DDD;\n",
              "  }\n",
              "\n",
              "  [theme=dark] .colab-df-quickchart {\n",
              "      --bg-color: #3B4455;\n",
              "      --fill-color: #D2E3FC;\n",
              "      --hover-bg-color: #434B5C;\n",
              "      --hover-fill-color: #FFFFFF;\n",
              "      --disabled-bg-color: #3B4455;\n",
              "      --disabled-fill-color: #666;\n",
              "  }\n",
              "\n",
              "  .colab-df-quickchart {\n",
              "    background-color: var(--bg-color);\n",
              "    border: none;\n",
              "    border-radius: 50%;\n",
              "    cursor: pointer;\n",
              "    display: none;\n",
              "    fill: var(--fill-color);\n",
              "    height: 32px;\n",
              "    padding: 0;\n",
              "    width: 32px;\n",
              "  }\n",
              "\n",
              "  .colab-df-quickchart:hover {\n",
              "    background-color: var(--hover-bg-color);\n",
              "    box-shadow: 0 1px 2px rgba(60, 64, 67, 0.3), 0 1px 3px 1px rgba(60, 64, 67, 0.15);\n",
              "    fill: var(--button-hover-fill-color);\n",
              "  }\n",
              "\n",
              "  .colab-df-quickchart-complete:disabled,\n",
              "  .colab-df-quickchart-complete:disabled:hover {\n",
              "    background-color: var(--disabled-bg-color);\n",
              "    fill: var(--disabled-fill-color);\n",
              "    box-shadow: none;\n",
              "  }\n",
              "\n",
              "  .colab-df-spinner {\n",
              "    border: 2px solid var(--fill-color);\n",
              "    border-color: transparent;\n",
              "    border-bottom-color: var(--fill-color);\n",
              "    animation:\n",
              "      spin 1s steps(1) infinite;\n",
              "  }\n",
              "\n",
              "  @keyframes spin {\n",
              "    0% {\n",
              "      border-color: transparent;\n",
              "      border-bottom-color: var(--fill-color);\n",
              "      border-left-color: var(--fill-color);\n",
              "    }\n",
              "    20% {\n",
              "      border-color: transparent;\n",
              "      border-left-color: var(--fill-color);\n",
              "      border-top-color: var(--fill-color);\n",
              "    }\n",
              "    30% {\n",
              "      border-color: transparent;\n",
              "      border-left-color: var(--fill-color);\n",
              "      border-top-color: var(--fill-color);\n",
              "      border-right-color: var(--fill-color);\n",
              "    }\n",
              "    40% {\n",
              "      border-color: transparent;\n",
              "      border-right-color: var(--fill-color);\n",
              "      border-top-color: var(--fill-color);\n",
              "    }\n",
              "    60% {\n",
              "      border-color: transparent;\n",
              "      border-right-color: var(--fill-color);\n",
              "    }\n",
              "    80% {\n",
              "      border-color: transparent;\n",
              "      border-right-color: var(--fill-color);\n",
              "      border-bottom-color: var(--fill-color);\n",
              "    }\n",
              "    90% {\n",
              "      border-color: transparent;\n",
              "      border-bottom-color: var(--fill-color);\n",
              "    }\n",
              "  }\n",
              "</style>\n",
              "\n",
              "      <script>\n",
              "        async function quickchart(key) {\n",
              "          const quickchartButtonEl =\n",
              "            document.querySelector('#' + key + ' button');\n",
              "          quickchartButtonEl.disabled = true;  // To prevent multiple clicks.\n",
              "          quickchartButtonEl.classList.add('colab-df-spinner');\n",
              "          try {\n",
              "            const charts = await google.colab.kernel.invokeFunction(\n",
              "                'suggestCharts', [key], {});\n",
              "          } catch (error) {\n",
              "            console.error('Error during call to suggestCharts:', error);\n",
              "          }\n",
              "          quickchartButtonEl.classList.remove('colab-df-spinner');\n",
              "          quickchartButtonEl.classList.add('colab-df-quickchart-complete');\n",
              "        }\n",
              "        (() => {\n",
              "          let quickchartButtonEl =\n",
              "            document.querySelector('#df-4e6262fd-592c-41c4-888a-68231ebed904 button');\n",
              "          quickchartButtonEl.style.display =\n",
              "            google.colab.kernel.accessAllowed ? 'block' : 'none';\n",
              "        })();\n",
              "      </script>\n",
              "    </div>\n",
              "\n",
              "    </div>\n",
              "  </div>\n"
            ],
            "text/plain": [
              "   Time_spent_Alone  Social_event_attendance  Going_outside  \\\n",
              "0         -0.147014                 0.012759       1.350613   \n",
              "1          1.306226                -1.379944      -1.350613   \n",
              "2          1.306226                -1.031768      -0.450204   \n",
              "3         -1.309607                 0.709111       1.800817   \n",
              "4         -0.437663                 1.753638       0.450204   \n",
              "\n",
              "   Friends_circle_size  Post_frequency  Stage_fear_No  Stage_fear_Yes  \\\n",
              "0             1.590680        0.496104            1.0             0.0   \n",
              "1            -1.481437       -0.195199            0.0             1.0   \n",
              "2            -0.299853       -0.540850            0.0             1.0   \n",
              "3             1.826996        1.533059            1.0             0.0   \n",
              "4             0.409096        0.496104            1.0             0.0   \n",
              "\n",
              "   Stage_fear_nan  Drained_after_socializing_No  \\\n",
              "0             0.0                           1.0   \n",
              "1             0.0                           0.0   \n",
              "2             0.0                           0.0   \n",
              "3             0.0                           1.0   \n",
              "4             0.0                           1.0   \n",
              "\n",
              "   Drained_after_socializing_Yes  Drained_after_socializing_nan  \n",
              "0                            0.0                            0.0  \n",
              "1                            1.0                            0.0  \n",
              "2                            1.0                            0.0  \n",
              "3                            0.0                            0.0  \n",
              "4                            0.0                            0.0  "
            ]
          },
          "metadata": {},
          "output_type": "display_data"
        },
        {
          "name": "stdout",
          "output_type": "stream",
          "text": [
            "<class 'pandas.core.frame.DataFrame'>\n",
            "RangeIndex: 2900 entries, 0 to 2899\n",
            "Data columns (total 11 columns):\n",
            " #   Column                         Non-Null Count  Dtype  \n",
            "---  ------                         --------------  -----  \n",
            " 0   Time_spent_Alone               2900 non-null   float64\n",
            " 1   Social_event_attendance        2900 non-null   float64\n",
            " 2   Going_outside                  2900 non-null   float64\n",
            " 3   Friends_circle_size            2900 non-null   float64\n",
            " 4   Post_frequency                 2900 non-null   float64\n",
            " 5   Stage_fear_No                  2900 non-null   float64\n",
            " 6   Stage_fear_Yes                 2900 non-null   float64\n",
            " 7   Stage_fear_nan                 2900 non-null   float64\n",
            " 8   Drained_after_socializing_No   2900 non-null   float64\n",
            " 9   Drained_after_socializing_Yes  2900 non-null   float64\n",
            " 10  Drained_after_socializing_nan  2900 non-null   float64\n",
            "dtypes: float64(11)\n",
            "memory usage: 249.3 KB\n"
          ]
        },
        {
          "data": {
            "text/plain": [
              "None"
            ]
          },
          "metadata": {},
          "output_type": "display_data"
        },
        {
          "data": {
            "text/html": [
              "<div>\n",
              "<style scoped>\n",
              "    .dataframe tbody tr th:only-of-type {\n",
              "        vertical-align: middle;\n",
              "    }\n",
              "\n",
              "    .dataframe tbody tr th {\n",
              "        vertical-align: top;\n",
              "    }\n",
              "\n",
              "    .dataframe thead th {\n",
              "        text-align: right;\n",
              "    }\n",
              "</style>\n",
              "<table border=\"1\" class=\"dataframe\">\n",
              "  <thead>\n",
              "    <tr style=\"text-align: right;\">\n",
              "      <th></th>\n",
              "      <th>Personality</th>\n",
              "    </tr>\n",
              "  </thead>\n",
              "  <tbody>\n",
              "    <tr>\n",
              "      <th>0</th>\n",
              "      <td>Extrovert</td>\n",
              "    </tr>\n",
              "    <tr>\n",
              "      <th>1</th>\n",
              "      <td>Introvert</td>\n",
              "    </tr>\n",
              "    <tr>\n",
              "      <th>2</th>\n",
              "      <td>Introvert</td>\n",
              "    </tr>\n",
              "    <tr>\n",
              "      <th>3</th>\n",
              "      <td>Extrovert</td>\n",
              "    </tr>\n",
              "    <tr>\n",
              "      <th>4</th>\n",
              "      <td>Extrovert</td>\n",
              "    </tr>\n",
              "  </tbody>\n",
              "</table>\n",
              "</div><br><label><b>dtype:</b> object</label>"
            ],
            "text/plain": [
              "0    Extrovert\n",
              "1    Introvert\n",
              "2    Introvert\n",
              "3    Extrovert\n",
              "4    Extrovert\n",
              "Name: Personality, dtype: object"
            ]
          },
          "metadata": {},
          "output_type": "display_data"
        }
      ],
      "source": [
        "from sklearn.impute import SimpleImputer\n",
        "from sklearn.preprocessing import OneHotEncoder, StandardScaler\n",
        "from sklearn.compose import ColumnTransformer\n",
        "from sklearn.pipeline import Pipeline\n",
        "\n",
        "# Identify columns with missing values\n",
        "cols_with_missing = df.columns[df.isnull().any()].tolist()\n",
        "print(\"Columns with missing values:\", cols_with_missing)\n",
        "\n",
        "# Impute missing numerical values with the mean\n",
        "numerical_cols = df.select_dtypes(include=['float64']).columns\n",
        "imputer_numerical = SimpleImputer(strategy='mean')\n",
        "df[numerical_cols] = imputer_numerical.fit_transform(df[numerical_cols])\n",
        "\n",
        "# Identify categorical columns\n",
        "categorical_cols = df.select_dtypes(include=['object']).columns\n",
        "print(\"Categorical columns:\", categorical_cols)\n",
        "\n",
        "# Separate target variable\n",
        "X = df.drop('Personality', axis=1)\n",
        "y = df['Personality']\n",
        "\n",
        "# Define preprocessing steps for different column types\n",
        "preprocessor = ColumnTransformer(\n",
        "    transformers=[\n",
        "        ('num', StandardScaler(), numerical_cols),\n",
        "        ('cat', OneHotEncoder(handle_unknown='ignore'), categorical_cols.drop('Personality', errors='ignore'))\n",
        "    ],\n",
        "    remainder='passthrough'\n",
        ")\n",
        "\n",
        "# Create a preprocessing pipeline\n",
        "preprocessing_pipeline = Pipeline(steps=[('preprocessor', preprocessor)])\n",
        "\n",
        "# Apply preprocessing to the features\n",
        "X_processed = preprocessing_pipeline.fit_transform(X)\n",
        "\n",
        "# Convert processed features back to DataFrame for inspection\n",
        "# Get feature names after one-hot encoding\n",
        "cat_feature_names = preprocessing_pipeline.named_steps['preprocessor'].named_transformers_['cat'].get_feature_names_out(categorical_cols.drop('Personality', errors='ignore'))\n",
        "all_feature_names = list(numerical_cols) + list(cat_feature_names)\n",
        "\n",
        "X_processed_df = pd.DataFrame(X_processed, columns=all_feature_names)\n",
        "\n",
        "# Display the first few rows and data types of the processed DataFrame\n",
        "display(X_processed_df.head())\n",
        "display(X_processed_df.info())\n",
        "display(y.head())"
      ]
    },
    {
      "cell_type": "markdown",
      "metadata": {
        "id": "a55f215c"
      },
      "source": [
        "## Feature selection/engineering\n",
        "\n",
        "### Subtask:\n",
        "Select relevant features or create new features that might improve model performance.\n"
      ]
    },
    {
      "cell_type": "markdown",
      "metadata": {
        "id": "75d248ce"
      },
      "source": [
        "**Reasoning**:\n",
        "Analyze feature importance by training a simple model and inspecting coefficients or feature importance scores, and then select features based on this analysis.\n",
        "\n"
      ]
    },
    {
      "cell_type": "code",
      "execution_count": 3,
      "metadata": {
        "colab": {
          "base_uri": "https://localhost:8080/",
          "height": 708
        },
        "id": "78f65f66",
        "outputId": "daadf8ad-5375-4d8d-b7f7-0c154c248c35"
      },
      "outputs": [
        {
          "data": {
            "application/vnd.google.colaboratory.intrinsic+json": {
              "type": "string"
            },
            "text/plain": [
              "'Feature Importance:'"
            ]
          },
          "metadata": {},
          "output_type": "display_data"
        },
        {
          "data": {
            "application/vnd.google.colaboratory.intrinsic+json": {
              "summary": "{\n  \"name\": \"importance_df\",\n  \"rows\": 11,\n  \"fields\": [\n    {\n      \"column\": \"feature\",\n      \"properties\": {\n        \"dtype\": \"string\",\n        \"num_unique_values\": 11,\n        \"samples\": [\n          \"Friends_circle_size\",\n          \"Drained_after_socializing_No\",\n          \"Stage_fear_nan\"\n        ],\n        \"semantic_type\": \"\",\n        \"description\": \"\"\n      }\n    },\n    {\n      \"column\": \"importance\",\n      \"properties\": {\n        \"dtype\": \"number\",\n        \"std\": 0.8564142034965185,\n        \"min\": 0.05138623643848247,\n        \"max\": 2.3855296555833325,\n        \"num_unique_values\": 11,\n        \"samples\": [\n          0.44371173525406615,\n          2.3855296555833325,\n          0.05207175476044325\n        ],\n        \"semantic_type\": \"\",\n        \"description\": \"\"\n      }\n    }\n  ]\n}",
              "type": "dataframe",
              "variable_name": "importance_df"
            },
            "text/html": [
              "\n",
              "  <div id=\"df-145050d4-62a4-4354-a0ee-7c0aaec3be97\" class=\"colab-df-container\">\n",
              "    <div>\n",
              "<style scoped>\n",
              "    .dataframe tbody tr th:only-of-type {\n",
              "        vertical-align: middle;\n",
              "    }\n",
              "\n",
              "    .dataframe tbody tr th {\n",
              "        vertical-align: top;\n",
              "    }\n",
              "\n",
              "    .dataframe thead th {\n",
              "        text-align: right;\n",
              "    }\n",
              "</style>\n",
              "<table border=\"1\" class=\"dataframe\">\n",
              "  <thead>\n",
              "    <tr style=\"text-align: right;\">\n",
              "      <th></th>\n",
              "      <th>feature</th>\n",
              "      <th>importance</th>\n",
              "    </tr>\n",
              "  </thead>\n",
              "  <tbody>\n",
              "    <tr>\n",
              "      <th>8</th>\n",
              "      <td>Drained_after_socializing_No</td>\n",
              "      <td>2.385530</td>\n",
              "    </tr>\n",
              "    <tr>\n",
              "      <th>9</th>\n",
              "      <td>Drained_after_socializing_Yes</td>\n",
              "      <td>1.926773</td>\n",
              "    </tr>\n",
              "    <tr>\n",
              "      <th>5</th>\n",
              "      <td>Stage_fear_No</td>\n",
              "      <td>1.626096</td>\n",
              "    </tr>\n",
              "    <tr>\n",
              "      <th>6</th>\n",
              "      <td>Stage_fear_Yes</td>\n",
              "      <td>1.611038</td>\n",
              "    </tr>\n",
              "    <tr>\n",
              "      <th>10</th>\n",
              "      <td>Drained_after_socializing_nan</td>\n",
              "      <td>0.495770</td>\n",
              "    </tr>\n",
              "    <tr>\n",
              "      <th>3</th>\n",
              "      <td>Friends_circle_size</td>\n",
              "      <td>0.443712</td>\n",
              "    </tr>\n",
              "    <tr>\n",
              "      <th>0</th>\n",
              "      <td>Time_spent_Alone</td>\n",
              "      <td>0.417208</td>\n",
              "    </tr>\n",
              "    <tr>\n",
              "      <th>1</th>\n",
              "      <td>Social_event_attendance</td>\n",
              "      <td>0.206444</td>\n",
              "    </tr>\n",
              "    <tr>\n",
              "      <th>2</th>\n",
              "      <td>Going_outside</td>\n",
              "      <td>0.164982</td>\n",
              "    </tr>\n",
              "    <tr>\n",
              "      <th>7</th>\n",
              "      <td>Stage_fear_nan</td>\n",
              "      <td>0.052072</td>\n",
              "    </tr>\n",
              "    <tr>\n",
              "      <th>4</th>\n",
              "      <td>Post_frequency</td>\n",
              "      <td>0.051386</td>\n",
              "    </tr>\n",
              "  </tbody>\n",
              "</table>\n",
              "</div>\n",
              "    <div class=\"colab-df-buttons\">\n",
              "\n",
              "  <div class=\"colab-df-container\">\n",
              "    <button class=\"colab-df-convert\" onclick=\"convertToInteractive('df-145050d4-62a4-4354-a0ee-7c0aaec3be97')\"\n",
              "            title=\"Convert this dataframe to an interactive table.\"\n",
              "            style=\"display:none;\">\n",
              "\n",
              "  <svg xmlns=\"http://www.w3.org/2000/svg\" height=\"24px\" viewBox=\"0 -960 960 960\">\n",
              "    <path d=\"M120-120v-720h720v720H120Zm60-500h600v-160H180v160Zm220 220h160v-160H400v160Zm0 220h160v-160H400v160ZM180-400h160v-160H180v160Zm440 0h160v-160H620v160ZM180-180h160v-160H180v160Zm440 0h160v-160H620v160Z\"/>\n",
              "  </svg>\n",
              "    </button>\n",
              "\n",
              "  <style>\n",
              "    .colab-df-container {\n",
              "      display:flex;\n",
              "      gap: 12px;\n",
              "    }\n",
              "\n",
              "    .colab-df-convert {\n",
              "      background-color: #E8F0FE;\n",
              "      border: none;\n",
              "      border-radius: 50%;\n",
              "      cursor: pointer;\n",
              "      display: none;\n",
              "      fill: #1967D2;\n",
              "      height: 32px;\n",
              "      padding: 0 0 0 0;\n",
              "      width: 32px;\n",
              "    }\n",
              "\n",
              "    .colab-df-convert:hover {\n",
              "      background-color: #E2EBFA;\n",
              "      box-shadow: 0px 1px 2px rgba(60, 64, 67, 0.3), 0px 1px 3px 1px rgba(60, 64, 67, 0.15);\n",
              "      fill: #174EA6;\n",
              "    }\n",
              "\n",
              "    .colab-df-buttons div {\n",
              "      margin-bottom: 4px;\n",
              "    }\n",
              "\n",
              "    [theme=dark] .colab-df-convert {\n",
              "      background-color: #3B4455;\n",
              "      fill: #D2E3FC;\n",
              "    }\n",
              "\n",
              "    [theme=dark] .colab-df-convert:hover {\n",
              "      background-color: #434B5C;\n",
              "      box-shadow: 0px 1px 3px 1px rgba(0, 0, 0, 0.15);\n",
              "      filter: drop-shadow(0px 1px 2px rgba(0, 0, 0, 0.3));\n",
              "      fill: #FFFFFF;\n",
              "    }\n",
              "  </style>\n",
              "\n",
              "    <script>\n",
              "      const buttonEl =\n",
              "        document.querySelector('#df-145050d4-62a4-4354-a0ee-7c0aaec3be97 button.colab-df-convert');\n",
              "      buttonEl.style.display =\n",
              "        google.colab.kernel.accessAllowed ? 'block' : 'none';\n",
              "\n",
              "      async function convertToInteractive(key) {\n",
              "        const element = document.querySelector('#df-145050d4-62a4-4354-a0ee-7c0aaec3be97');\n",
              "        const dataTable =\n",
              "          await google.colab.kernel.invokeFunction('convertToInteractive',\n",
              "                                                    [key], {});\n",
              "        if (!dataTable) return;\n",
              "\n",
              "        const docLinkHtml = 'Like what you see? Visit the ' +\n",
              "          '<a target=\"_blank\" href=https://colab.research.google.com/notebooks/data_table.ipynb>data table notebook</a>'\n",
              "          + ' to learn more about interactive tables.';\n",
              "        element.innerHTML = '';\n",
              "        dataTable['output_type'] = 'display_data';\n",
              "        await google.colab.output.renderOutput(dataTable, element);\n",
              "        const docLink = document.createElement('div');\n",
              "        docLink.innerHTML = docLinkHtml;\n",
              "        element.appendChild(docLink);\n",
              "      }\n",
              "    </script>\n",
              "  </div>\n",
              "\n",
              "\n",
              "    <div id=\"df-7b8047e9-aea6-4913-bd84-621319c67907\">\n",
              "      <button class=\"colab-df-quickchart\" onclick=\"quickchart('df-7b8047e9-aea6-4913-bd84-621319c67907')\"\n",
              "                title=\"Suggest charts\"\n",
              "                style=\"display:none;\">\n",
              "\n",
              "<svg xmlns=\"http://www.w3.org/2000/svg\" height=\"24px\"viewBox=\"0 0 24 24\"\n",
              "     width=\"24px\">\n",
              "    <g>\n",
              "        <path d=\"M19 3H5c-1.1 0-2 .9-2 2v14c0 1.1.9 2 2 2h14c1.1 0 2-.9 2-2V5c0-1.1-.9-2-2-2zM9 17H7v-7h2v7zm4 0h-2V7h2v10zm4 0h-2v-4h2v4z\"/>\n",
              "    </g>\n",
              "</svg>\n",
              "      </button>\n",
              "\n",
              "<style>\n",
              "  .colab-df-quickchart {\n",
              "      --bg-color: #E8F0FE;\n",
              "      --fill-color: #1967D2;\n",
              "      --hover-bg-color: #E2EBFA;\n",
              "      --hover-fill-color: #174EA6;\n",
              "      --disabled-fill-color: #AAA;\n",
              "      --disabled-bg-color: #DDD;\n",
              "  }\n",
              "\n",
              "  [theme=dark] .colab-df-quickchart {\n",
              "      --bg-color: #3B4455;\n",
              "      --fill-color: #D2E3FC;\n",
              "      --hover-bg-color: #434B5C;\n",
              "      --hover-fill-color: #FFFFFF;\n",
              "      --disabled-bg-color: #3B4455;\n",
              "      --disabled-fill-color: #666;\n",
              "  }\n",
              "\n",
              "  .colab-df-quickchart {\n",
              "    background-color: var(--bg-color);\n",
              "    border: none;\n",
              "    border-radius: 50%;\n",
              "    cursor: pointer;\n",
              "    display: none;\n",
              "    fill: var(--fill-color);\n",
              "    height: 32px;\n",
              "    padding: 0;\n",
              "    width: 32px;\n",
              "  }\n",
              "\n",
              "  .colab-df-quickchart:hover {\n",
              "    background-color: var(--hover-bg-color);\n",
              "    box-shadow: 0 1px 2px rgba(60, 64, 67, 0.3), 0 1px 3px 1px rgba(60, 64, 67, 0.15);\n",
              "    fill: var(--button-hover-fill-color);\n",
              "  }\n",
              "\n",
              "  .colab-df-quickchart-complete:disabled,\n",
              "  .colab-df-quickchart-complete:disabled:hover {\n",
              "    background-color: var(--disabled-bg-color);\n",
              "    fill: var(--disabled-fill-color);\n",
              "    box-shadow: none;\n",
              "  }\n",
              "\n",
              "  .colab-df-spinner {\n",
              "    border: 2px solid var(--fill-color);\n",
              "    border-color: transparent;\n",
              "    border-bottom-color: var(--fill-color);\n",
              "    animation:\n",
              "      spin 1s steps(1) infinite;\n",
              "  }\n",
              "\n",
              "  @keyframes spin {\n",
              "    0% {\n",
              "      border-color: transparent;\n",
              "      border-bottom-color: var(--fill-color);\n",
              "      border-left-color: var(--fill-color);\n",
              "    }\n",
              "    20% {\n",
              "      border-color: transparent;\n",
              "      border-left-color: var(--fill-color);\n",
              "      border-top-color: var(--fill-color);\n",
              "    }\n",
              "    30% {\n",
              "      border-color: transparent;\n",
              "      border-left-color: var(--fill-color);\n",
              "      border-top-color: var(--fill-color);\n",
              "      border-right-color: var(--fill-color);\n",
              "    }\n",
              "    40% {\n",
              "      border-color: transparent;\n",
              "      border-right-color: var(--fill-color);\n",
              "      border-top-color: var(--fill-color);\n",
              "    }\n",
              "    60% {\n",
              "      border-color: transparent;\n",
              "      border-right-color: var(--fill-color);\n",
              "    }\n",
              "    80% {\n",
              "      border-color: transparent;\n",
              "      border-right-color: var(--fill-color);\n",
              "      border-bottom-color: var(--fill-color);\n",
              "    }\n",
              "    90% {\n",
              "      border-color: transparent;\n",
              "      border-bottom-color: var(--fill-color);\n",
              "    }\n",
              "  }\n",
              "</style>\n",
              "\n",
              "      <script>\n",
              "        async function quickchart(key) {\n",
              "          const quickchartButtonEl =\n",
              "            document.querySelector('#' + key + ' button');\n",
              "          quickchartButtonEl.disabled = true;  // To prevent multiple clicks.\n",
              "          quickchartButtonEl.classList.add('colab-df-spinner');\n",
              "          try {\n",
              "            const charts = await google.colab.kernel.invokeFunction(\n",
              "                'suggestCharts', [key], {});\n",
              "          } catch (error) {\n",
              "            console.error('Error during call to suggestCharts:', error);\n",
              "          }\n",
              "          quickchartButtonEl.classList.remove('colab-df-spinner');\n",
              "          quickchartButtonEl.classList.add('colab-df-quickchart-complete');\n",
              "        }\n",
              "        (() => {\n",
              "          let quickchartButtonEl =\n",
              "            document.querySelector('#df-7b8047e9-aea6-4913-bd84-621319c67907 button');\n",
              "          quickchartButtonEl.style.display =\n",
              "            google.colab.kernel.accessAllowed ? 'block' : 'none';\n",
              "        })();\n",
              "      </script>\n",
              "    </div>\n",
              "\n",
              "  <div id=\"id_5b6f6294-7699-45e9-9ba6-3a3de2d78dfa\">\n",
              "    <style>\n",
              "      .colab-df-generate {\n",
              "        background-color: #E8F0FE;\n",
              "        border: none;\n",
              "        border-radius: 50%;\n",
              "        cursor: pointer;\n",
              "        display: none;\n",
              "        fill: #1967D2;\n",
              "        height: 32px;\n",
              "        padding: 0 0 0 0;\n",
              "        width: 32px;\n",
              "      }\n",
              "\n",
              "      .colab-df-generate:hover {\n",
              "        background-color: #E2EBFA;\n",
              "        box-shadow: 0px 1px 2px rgba(60, 64, 67, 0.3), 0px 1px 3px 1px rgba(60, 64, 67, 0.15);\n",
              "        fill: #174EA6;\n",
              "      }\n",
              "\n",
              "      [theme=dark] .colab-df-generate {\n",
              "        background-color: #3B4455;\n",
              "        fill: #D2E3FC;\n",
              "      }\n",
              "\n",
              "      [theme=dark] .colab-df-generate:hover {\n",
              "        background-color: #434B5C;\n",
              "        box-shadow: 0px 1px 3px 1px rgba(0, 0, 0, 0.15);\n",
              "        filter: drop-shadow(0px 1px 2px rgba(0, 0, 0, 0.3));\n",
              "        fill: #FFFFFF;\n",
              "      }\n",
              "    </style>\n",
              "    <button class=\"colab-df-generate\" onclick=\"generateWithVariable('importance_df')\"\n",
              "            title=\"Generate code using this dataframe.\"\n",
              "            style=\"display:none;\">\n",
              "\n",
              "  <svg xmlns=\"http://www.w3.org/2000/svg\" height=\"24px\"viewBox=\"0 0 24 24\"\n",
              "       width=\"24px\">\n",
              "    <path d=\"M7,19H8.4L18.45,9,17,7.55,7,17.6ZM5,21V16.75L18.45,3.32a2,2,0,0,1,2.83,0l1.4,1.43a1.91,1.91,0,0,1,.58,1.4,1.91,1.91,0,0,1-.58,1.4L9.25,21ZM18.45,9,17,7.55Zm-12,3A5.31,5.31,0,0,0,4.9,8.1,5.31,5.31,0,0,0,1,6.5,5.31,5.31,0,0,0,4.9,4.9,5.31,5.31,0,0,0,6.5,1,5.31,5.31,0,0,0,8.1,4.9,5.31,5.31,0,0,0,12,6.5,5.46,5.46,0,0,0,6.5,12Z\"/>\n",
              "  </svg>\n",
              "    </button>\n",
              "    <script>\n",
              "      (() => {\n",
              "      const buttonEl =\n",
              "        document.querySelector('#id_5b6f6294-7699-45e9-9ba6-3a3de2d78dfa button.colab-df-generate');\n",
              "      buttonEl.style.display =\n",
              "        google.colab.kernel.accessAllowed ? 'block' : 'none';\n",
              "\n",
              "      buttonEl.onclick = () => {\n",
              "        google.colab.notebook.generateWithVariable('importance_df');\n",
              "      }\n",
              "      })();\n",
              "    </script>\n",
              "  </div>\n",
              "\n",
              "    </div>\n",
              "  </div>\n"
            ],
            "text/plain": [
              "                          feature  importance\n",
              "8    Drained_after_socializing_No    2.385530\n",
              "9   Drained_after_socializing_Yes    1.926773\n",
              "5                   Stage_fear_No    1.626096\n",
              "6                  Stage_fear_Yes    1.611038\n",
              "10  Drained_after_socializing_nan    0.495770\n",
              "3             Friends_circle_size    0.443712\n",
              "0                Time_spent_Alone    0.417208\n",
              "1         Social_event_attendance    0.206444\n",
              "2                   Going_outside    0.164982\n",
              "7                  Stage_fear_nan    0.052072\n",
              "4                  Post_frequency    0.051386"
            ]
          },
          "metadata": {},
          "output_type": "display_data"
        },
        {
          "data": {
            "application/vnd.google.colaboratory.intrinsic+json": {
              "type": "string"
            },
            "text/plain": [
              "'\\nSelected features (importance >= 0.8528):'"
            ]
          },
          "metadata": {},
          "output_type": "display_data"
        },
        {
          "data": {
            "text/plain": [
              "['Drained_after_socializing_No',\n",
              " 'Drained_after_socializing_Yes',\n",
              " 'Stage_fear_No',\n",
              " 'Stage_fear_Yes']"
            ]
          },
          "metadata": {},
          "output_type": "display_data"
        },
        {
          "data": {
            "application/vnd.google.colaboratory.intrinsic+json": {
              "type": "string"
            },
            "text/plain": [
              "'\\nProcessed DataFrame with selected features:'"
            ]
          },
          "metadata": {},
          "output_type": "display_data"
        },
        {
          "data": {
            "application/vnd.google.colaboratory.intrinsic+json": {
              "summary": "{\n  \"name\": \"display(X_processed_df_selected\",\n  \"rows\": 5,\n  \"fields\": [\n    {\n      \"column\": \"Drained_after_socializing_No\",\n      \"properties\": {\n        \"dtype\": \"number\",\n        \"std\": 0.5477225575051662,\n        \"min\": 0.0,\n        \"max\": 1.0,\n        \"num_unique_values\": 2,\n        \"samples\": [\n          0.0,\n          1.0\n        ],\n        \"semantic_type\": \"\",\n        \"description\": \"\"\n      }\n    },\n    {\n      \"column\": \"Drained_after_socializing_Yes\",\n      \"properties\": {\n        \"dtype\": \"number\",\n        \"std\": 0.5477225575051662,\n        \"min\": 0.0,\n        \"max\": 1.0,\n        \"num_unique_values\": 2,\n        \"samples\": [\n          1.0,\n          0.0\n        ],\n        \"semantic_type\": \"\",\n        \"description\": \"\"\n      }\n    },\n    {\n      \"column\": \"Stage_fear_No\",\n      \"properties\": {\n        \"dtype\": \"number\",\n        \"std\": 0.5477225575051662,\n        \"min\": 0.0,\n        \"max\": 1.0,\n        \"num_unique_values\": 2,\n        \"samples\": [\n          0.0,\n          1.0\n        ],\n        \"semantic_type\": \"\",\n        \"description\": \"\"\n      }\n    },\n    {\n      \"column\": \"Stage_fear_Yes\",\n      \"properties\": {\n        \"dtype\": \"number\",\n        \"std\": 0.5477225575051662,\n        \"min\": 0.0,\n        \"max\": 1.0,\n        \"num_unique_values\": 2,\n        \"samples\": [\n          1.0,\n          0.0\n        ],\n        \"semantic_type\": \"\",\n        \"description\": \"\"\n      }\n    }\n  ]\n}",
              "type": "dataframe"
            },
            "text/html": [
              "\n",
              "  <div id=\"df-370954a2-74c9-4672-bff6-8bde098e5d0e\" class=\"colab-df-container\">\n",
              "    <div>\n",
              "<style scoped>\n",
              "    .dataframe tbody tr th:only-of-type {\n",
              "        vertical-align: middle;\n",
              "    }\n",
              "\n",
              "    .dataframe tbody tr th {\n",
              "        vertical-align: top;\n",
              "    }\n",
              "\n",
              "    .dataframe thead th {\n",
              "        text-align: right;\n",
              "    }\n",
              "</style>\n",
              "<table border=\"1\" class=\"dataframe\">\n",
              "  <thead>\n",
              "    <tr style=\"text-align: right;\">\n",
              "      <th></th>\n",
              "      <th>Drained_after_socializing_No</th>\n",
              "      <th>Drained_after_socializing_Yes</th>\n",
              "      <th>Stage_fear_No</th>\n",
              "      <th>Stage_fear_Yes</th>\n",
              "    </tr>\n",
              "  </thead>\n",
              "  <tbody>\n",
              "    <tr>\n",
              "      <th>0</th>\n",
              "      <td>1.0</td>\n",
              "      <td>0.0</td>\n",
              "      <td>1.0</td>\n",
              "      <td>0.0</td>\n",
              "    </tr>\n",
              "    <tr>\n",
              "      <th>1</th>\n",
              "      <td>0.0</td>\n",
              "      <td>1.0</td>\n",
              "      <td>0.0</td>\n",
              "      <td>1.0</td>\n",
              "    </tr>\n",
              "    <tr>\n",
              "      <th>2</th>\n",
              "      <td>0.0</td>\n",
              "      <td>1.0</td>\n",
              "      <td>0.0</td>\n",
              "      <td>1.0</td>\n",
              "    </tr>\n",
              "    <tr>\n",
              "      <th>3</th>\n",
              "      <td>1.0</td>\n",
              "      <td>0.0</td>\n",
              "      <td>1.0</td>\n",
              "      <td>0.0</td>\n",
              "    </tr>\n",
              "    <tr>\n",
              "      <th>4</th>\n",
              "      <td>1.0</td>\n",
              "      <td>0.0</td>\n",
              "      <td>1.0</td>\n",
              "      <td>0.0</td>\n",
              "    </tr>\n",
              "  </tbody>\n",
              "</table>\n",
              "</div>\n",
              "    <div class=\"colab-df-buttons\">\n",
              "\n",
              "  <div class=\"colab-df-container\">\n",
              "    <button class=\"colab-df-convert\" onclick=\"convertToInteractive('df-370954a2-74c9-4672-bff6-8bde098e5d0e')\"\n",
              "            title=\"Convert this dataframe to an interactive table.\"\n",
              "            style=\"display:none;\">\n",
              "\n",
              "  <svg xmlns=\"http://www.w3.org/2000/svg\" height=\"24px\" viewBox=\"0 -960 960 960\">\n",
              "    <path d=\"M120-120v-720h720v720H120Zm60-500h600v-160H180v160Zm220 220h160v-160H400v160Zm0 220h160v-160H400v160ZM180-400h160v-160H180v160Zm440 0h160v-160H620v160ZM180-180h160v-160H180v160Zm440 0h160v-160H620v160Z\"/>\n",
              "  </svg>\n",
              "    </button>\n",
              "\n",
              "  <style>\n",
              "    .colab-df-container {\n",
              "      display:flex;\n",
              "      gap: 12px;\n",
              "    }\n",
              "\n",
              "    .colab-df-convert {\n",
              "      background-color: #E8F0FE;\n",
              "      border: none;\n",
              "      border-radius: 50%;\n",
              "      cursor: pointer;\n",
              "      display: none;\n",
              "      fill: #1967D2;\n",
              "      height: 32px;\n",
              "      padding: 0 0 0 0;\n",
              "      width: 32px;\n",
              "    }\n",
              "\n",
              "    .colab-df-convert:hover {\n",
              "      background-color: #E2EBFA;\n",
              "      box-shadow: 0px 1px 2px rgba(60, 64, 67, 0.3), 0px 1px 3px 1px rgba(60, 64, 67, 0.15);\n",
              "      fill: #174EA6;\n",
              "    }\n",
              "\n",
              "    .colab-df-buttons div {\n",
              "      margin-bottom: 4px;\n",
              "    }\n",
              "\n",
              "    [theme=dark] .colab-df-convert {\n",
              "      background-color: #3B4455;\n",
              "      fill: #D2E3FC;\n",
              "    }\n",
              "\n",
              "    [theme=dark] .colab-df-convert:hover {\n",
              "      background-color: #434B5C;\n",
              "      box-shadow: 0px 1px 3px 1px rgba(0, 0, 0, 0.15);\n",
              "      filter: drop-shadow(0px 1px 2px rgba(0, 0, 0, 0.3));\n",
              "      fill: #FFFFFF;\n",
              "    }\n",
              "  </style>\n",
              "\n",
              "    <script>\n",
              "      const buttonEl =\n",
              "        document.querySelector('#df-370954a2-74c9-4672-bff6-8bde098e5d0e button.colab-df-convert');\n",
              "      buttonEl.style.display =\n",
              "        google.colab.kernel.accessAllowed ? 'block' : 'none';\n",
              "\n",
              "      async function convertToInteractive(key) {\n",
              "        const element = document.querySelector('#df-370954a2-74c9-4672-bff6-8bde098e5d0e');\n",
              "        const dataTable =\n",
              "          await google.colab.kernel.invokeFunction('convertToInteractive',\n",
              "                                                    [key], {});\n",
              "        if (!dataTable) return;\n",
              "\n",
              "        const docLinkHtml = 'Like what you see? Visit the ' +\n",
              "          '<a target=\"_blank\" href=https://colab.research.google.com/notebooks/data_table.ipynb>data table notebook</a>'\n",
              "          + ' to learn more about interactive tables.';\n",
              "        element.innerHTML = '';\n",
              "        dataTable['output_type'] = 'display_data';\n",
              "        await google.colab.output.renderOutput(dataTable, element);\n",
              "        const docLink = document.createElement('div');\n",
              "        docLink.innerHTML = docLinkHtml;\n",
              "        element.appendChild(docLink);\n",
              "      }\n",
              "    </script>\n",
              "  </div>\n",
              "\n",
              "\n",
              "    <div id=\"df-319194b4-cb99-43f4-8f60-2d9da0042b03\">\n",
              "      <button class=\"colab-df-quickchart\" onclick=\"quickchart('df-319194b4-cb99-43f4-8f60-2d9da0042b03')\"\n",
              "                title=\"Suggest charts\"\n",
              "                style=\"display:none;\">\n",
              "\n",
              "<svg xmlns=\"http://www.w3.org/2000/svg\" height=\"24px\"viewBox=\"0 0 24 24\"\n",
              "     width=\"24px\">\n",
              "    <g>\n",
              "        <path d=\"M19 3H5c-1.1 0-2 .9-2 2v14c0 1.1.9 2 2 2h14c1.1 0 2-.9 2-2V5c0-1.1-.9-2-2-2zM9 17H7v-7h2v7zm4 0h-2V7h2v10zm4 0h-2v-4h2v4z\"/>\n",
              "    </g>\n",
              "</svg>\n",
              "      </button>\n",
              "\n",
              "<style>\n",
              "  .colab-df-quickchart {\n",
              "      --bg-color: #E8F0FE;\n",
              "      --fill-color: #1967D2;\n",
              "      --hover-bg-color: #E2EBFA;\n",
              "      --hover-fill-color: #174EA6;\n",
              "      --disabled-fill-color: #AAA;\n",
              "      --disabled-bg-color: #DDD;\n",
              "  }\n",
              "\n",
              "  [theme=dark] .colab-df-quickchart {\n",
              "      --bg-color: #3B4455;\n",
              "      --fill-color: #D2E3FC;\n",
              "      --hover-bg-color: #434B5C;\n",
              "      --hover-fill-color: #FFFFFF;\n",
              "      --disabled-bg-color: #3B4455;\n",
              "      --disabled-fill-color: #666;\n",
              "  }\n",
              "\n",
              "  .colab-df-quickchart {\n",
              "    background-color: var(--bg-color);\n",
              "    border: none;\n",
              "    border-radius: 50%;\n",
              "    cursor: pointer;\n",
              "    display: none;\n",
              "    fill: var(--fill-color);\n",
              "    height: 32px;\n",
              "    padding: 0;\n",
              "    width: 32px;\n",
              "  }\n",
              "\n",
              "  .colab-df-quickchart:hover {\n",
              "    background-color: var(--hover-bg-color);\n",
              "    box-shadow: 0 1px 2px rgba(60, 64, 67, 0.3), 0 1px 3px 1px rgba(60, 64, 67, 0.15);\n",
              "    fill: var(--button-hover-fill-color);\n",
              "  }\n",
              "\n",
              "  .colab-df-quickchart-complete:disabled,\n",
              "  .colab-df-quickchart-complete:disabled:hover {\n",
              "    background-color: var(--disabled-bg-color);\n",
              "    fill: var(--disabled-fill-color);\n",
              "    box-shadow: none;\n",
              "  }\n",
              "\n",
              "  .colab-df-spinner {\n",
              "    border: 2px solid var(--fill-color);\n",
              "    border-color: transparent;\n",
              "    border-bottom-color: var(--fill-color);\n",
              "    animation:\n",
              "      spin 1s steps(1) infinite;\n",
              "  }\n",
              "\n",
              "  @keyframes spin {\n",
              "    0% {\n",
              "      border-color: transparent;\n",
              "      border-bottom-color: var(--fill-color);\n",
              "      border-left-color: var(--fill-color);\n",
              "    }\n",
              "    20% {\n",
              "      border-color: transparent;\n",
              "      border-left-color: var(--fill-color);\n",
              "      border-top-color: var(--fill-color);\n",
              "    }\n",
              "    30% {\n",
              "      border-color: transparent;\n",
              "      border-left-color: var(--fill-color);\n",
              "      border-top-color: var(--fill-color);\n",
              "      border-right-color: var(--fill-color);\n",
              "    }\n",
              "    40% {\n",
              "      border-color: transparent;\n",
              "      border-right-color: var(--fill-color);\n",
              "      border-top-color: var(--fill-color);\n",
              "    }\n",
              "    60% {\n",
              "      border-color: transparent;\n",
              "      border-right-color: var(--fill-color);\n",
              "    }\n",
              "    80% {\n",
              "      border-color: transparent;\n",
              "      border-right-color: var(--fill-color);\n",
              "      border-bottom-color: var(--fill-color);\n",
              "    }\n",
              "    90% {\n",
              "      border-color: transparent;\n",
              "      border-bottom-color: var(--fill-color);\n",
              "    }\n",
              "  }\n",
              "</style>\n",
              "\n",
              "      <script>\n",
              "        async function quickchart(key) {\n",
              "          const quickchartButtonEl =\n",
              "            document.querySelector('#' + key + ' button');\n",
              "          quickchartButtonEl.disabled = true;  // To prevent multiple clicks.\n",
              "          quickchartButtonEl.classList.add('colab-df-spinner');\n",
              "          try {\n",
              "            const charts = await google.colab.kernel.invokeFunction(\n",
              "                'suggestCharts', [key], {});\n",
              "          } catch (error) {\n",
              "            console.error('Error during call to suggestCharts:', error);\n",
              "          }\n",
              "          quickchartButtonEl.classList.remove('colab-df-spinner');\n",
              "          quickchartButtonEl.classList.add('colab-df-quickchart-complete');\n",
              "        }\n",
              "        (() => {\n",
              "          let quickchartButtonEl =\n",
              "            document.querySelector('#df-319194b4-cb99-43f4-8f60-2d9da0042b03 button');\n",
              "          quickchartButtonEl.style.display =\n",
              "            google.colab.kernel.accessAllowed ? 'block' : 'none';\n",
              "        })();\n",
              "      </script>\n",
              "    </div>\n",
              "\n",
              "    </div>\n",
              "  </div>\n"
            ],
            "text/plain": [
              "   Drained_after_socializing_No  Drained_after_socializing_Yes  Stage_fear_No  \\\n",
              "0                           1.0                            0.0            1.0   \n",
              "1                           0.0                            1.0            0.0   \n",
              "2                           0.0                            1.0            0.0   \n",
              "3                           1.0                            0.0            1.0   \n",
              "4                           1.0                            0.0            1.0   \n",
              "\n",
              "   Stage_fear_Yes  \n",
              "0             0.0  \n",
              "1             1.0  \n",
              "2             1.0  \n",
              "3             0.0  \n",
              "4             0.0  "
            ]
          },
          "metadata": {},
          "output_type": "display_data"
        }
      ],
      "source": [
        "from sklearn.linear_model import LogisticRegression\n",
        "from sklearn.model_selection import train_test_split\n",
        "import numpy as np\n",
        "\n",
        "# Split the data into training and testing sets\n",
        "X_train, X_test, y_train, y_test = train_test_split(X_processed_df, y, test_size=0.2, random_state=42)\n",
        "\n",
        "# Train a simple Logistic Regression model\n",
        "model = LogisticRegression(max_iter=1000)\n",
        "model.fit(X_train, y_train)\n",
        "\n",
        "# Get feature importance (absolute coefficients for Logistic Regression)\n",
        "feature_importance = abs(model.coef_[0])\n",
        "\n",
        "# Create a DataFrame for better visualization of feature importance\n",
        "feature_names = X_processed_df.columns\n",
        "importance_df = pd.DataFrame({'feature': feature_names, 'importance': feature_importance})\n",
        "\n",
        "# Sort features by importance\n",
        "importance_df = importance_df.sort_values('importance', ascending=False)\n",
        "\n",
        "display(\"Feature Importance:\")\n",
        "display(importance_df)\n",
        "\n",
        "# Select top features based on importance (e.g., top 80% of features)\n",
        "# We can choose a threshold or a number of features. Let's choose features with importance above the mean\n",
        "importance_threshold = importance_df['importance'].mean()\n",
        "selected_features = importance_df[importance_df['importance'] >= importance_threshold]['feature'].tolist()\n",
        "\n",
        "display(f\"\\nSelected features (importance >= {importance_threshold:.4f}):\")\n",
        "display(selected_features)\n",
        "\n",
        "# Update X_processed_df to contain only the selected features\n",
        "X_processed_df_selected = X_processed_df[selected_features]\n",
        "display(\"\\nProcessed DataFrame with selected features:\")\n",
        "display(X_processed_df_selected.head())"
      ]
    },
    {
      "cell_type": "markdown",
      "metadata": {
        "id": "ceb3295c"
      },
      "source": [
        "## Data Visualization\n",
        "\n",
        "### Subtask:\n",
        "Visualize the distribution of the target variable and some key features to gain insights into the data."
      ]
    },
    {
      "cell_type": "code",
      "execution_count": 20,
      "metadata": {
        "colab": {
          "base_uri": "https://localhost:8080/",
          "height": 410
        },
        "id": "nbjzFMqIipiy",
        "outputId": "88dadda1-d1d2-4a36-a8ef-e22c3f675281"
      },
      "outputs": [
        {
          "data": {
            "image/png": "[encoded data removed]",
            "text/plain": [
              "<Figure size 600x400 with 1 Axes>"
            ]
          },
          "metadata": {},
          "output_type": "display_data"
        }
      ],
      "source": [
        "import matplotlib.pyplot as plt\n",
        "import seaborn as sns\n",
        "\n",
        "# Visualize the distribution of the target variable 'Personality'\n",
        "plt.figure(figsize=(6, 4))\n",
        "sns.countplot(x='Personality', data=df)\n",
        "plt.title('Distribution of Personality Types')\n",
        "plt.xlabel('Personality Type')\n",
        "plt.ylabel('Count')\n",
        "plt.show()"
      ]
    },
    {
      "cell_type": "code",
      "execution_count": 21,
      "metadata": {
        "colab": {
          "base_uri": "https://localhost:8080/",
          "height": 807
        },
        "id": "jwtpHdEbi4qK",
        "outputId": "570ceb56-c395-430b-bdf8-a946144afd5c"
      },
      "outputs": [
        {
          "data": {
            "image/png": "[encoded data removed]",
            "text/plain": [
              "<Figure size 1000x800 with 6 Axes>"
            ]
          },
          "metadata": {},
          "output_type": "display_data"
        }
      ],
      "source": [
        "# Visualize the distribution of some numerical features\n",
        "numerical_cols_to_plot = ['Time_spent_Alone', 'Social_event_attendance', 'Going_outside', 'Friends_circle_size', 'Post_frequency']\n",
        "df[numerical_cols_to_plot].hist(figsize=(10, 8))\n",
        "plt.tight_layout()\n",
        "plt.show()"
      ]
    },
    {
      "cell_type": "code",
      "execution_count": 22,
      "metadata": {
        "colab": {
          "base_uri": "https://localhost:8080/",
          "height": 476
        },
        "id": "Ol-XlLfpjEbJ",
        "outputId": "764db3ef-4756-403e-e692-ab35b43318db"
      },
      "outputs": [
        {
          "data": {
            "image/png": "[encoded data removed]",
            "text/plain": [
              "<Figure size 1200x500 with 2 Axes>"
            ]
          },
          "metadata": {},
          "output_type": "display_data"
        }
      ],
      "source": [
        "# Visualize the relationship between selected categorical features and the target variable\n",
        "plt.figure(figsize=(12, 5))\n",
        "\n",
        "plt.subplot(1, 2, 1)\n",
        "sns.countplot(x='Stage_fear', hue='Personality', data=df)\n",
        "plt.title('Personality vs. Stage Fear')\n",
        "plt.xlabel('Stage Fear')\n",
        "plt.ylabel('Count')\n",
        "\n",
        "plt.subplot(1, 2, 2)\n",
        "sns.countplot(x='Drained_after_socializing', hue='Personality', data=df)\n",
        "plt.title('Personality vs. Drained After Socializing')\n",
        "plt.xlabel('Drained After Socializing')\n",
        "plt.ylabel('Count')\n",
        "\n",
        "plt.tight_layout()\n",
        "plt.show()"
      ]
    },
    {
      "cell_type": "markdown",
      "metadata": {
        "id": "fdf6e02b"
      },
      "source": [
        "## Model selection\n",
        "\n",
        "### Subtask:\n",
        "Choose a suitable machine learning model for classification (e.g., Logistic Regression, Support Vector Machine, Decision Tree, Random Forest).\n"
      ]
    },
    {
      "cell_type": "markdown",
      "metadata": {
        "id": "4656a27c"
      },
      "source": [
        "**Reasoning**:\n",
        "Identify suitable classification models based on the problem and data characteristics and select one or two for the next steps.\n",
        "\n"
      ]
    },
    {
      "cell_type": "code",
      "execution_count": 4,
      "metadata": {
        "colab": {
          "base_uri": "https://localhost:8080/"
        },
        "id": "ddbdb9df",
        "outputId": "346c0782-ddef-41b8-fe70-174585e19a13"
      },
      "outputs": [
        {
          "name": "stdout",
          "output_type": "stream",
          "text": [
            "Selected models for the next steps: Logistic Regression and Random Forest.\n"
          ]
        }
      ],
      "source": [
        "# 1. Identify several common classification algorithms suitable for a binary classification problem\n",
        "# Suitable models for binary classification include:\n",
        "# - Logistic Regression\n",
        "# - Support Vector Machines (SVM)\n",
        "# - Decision Trees\n",
        "# - Random Forests\n",
        "# - Gradient Boosting Machines (like XGBoost or LightGBM)\n",
        "# - K-Nearest Neighbors (KNN)\n",
        "# - Naive Bayes\n",
        "\n",
        "# 2. Briefly consider the characteristics of the selected features and the dataset size\n",
        "# - The dataset size is moderate (2900 samples).\n",
        "# - The selected features (Drained_after_socializing and Stage_fear) are categorical (after one-hot encoding).\n",
        "# - The problem is binary classification (Introvert vs. Extrovert).\n",
        "\n",
        "# 3. Based on the considerations, select one or two models to proceed with\n",
        "# Given the dataset size and the nature of the selected features (categorical),\n",
        "# Logistic Regression is a good baseline model and often performs well on linearly separable data.\n",
        "# Random Forest is a powerful ensemble method that can capture non-linear relationships and is less sensitive to feature scaling,\n",
        "# which might still be relevant even with selected features.\n",
        "\n",
        "# We will select Logistic Regression and Random Forest for the next steps.\n",
        "print(\"Selected models for the next steps: Logistic Regression and Random Forest.\")"
      ]
    },
    {
      "cell_type": "markdown",
      "metadata": {
        "id": "aa19579d"
      },
      "source": [
        "## Model training\n",
        "\n",
        "### Subtask:\n",
        "Split the data into training and testing sets and train the selected models (Logistic Regression and Random Forest) on the training data using the selected features.\n"
      ]
    },
    {
      "cell_type": "markdown",
      "metadata": {
        "id": "23ceb463"
      },
      "source": [
        "**Reasoning**:\n",
        "Split the data into training and testing sets and train the selected models (Logistic Regression and Random Forest) on the training data using the selected features.\n",
        "\n"
      ]
    },
    {
      "cell_type": "code",
      "execution_count": 5,
      "metadata": {
        "colab": {
          "base_uri": "https://localhost:8080/"
        },
        "id": "b0389a0f",
        "outputId": "7eba6dda-f2d5-4d0e-a69d-fc487ebd460e"
      },
      "outputs": [
        {
          "name": "stdout",
          "output_type": "stream",
          "text": [
            "Logistic Regression model trained successfully.\n",
            "Random Forest model trained successfully.\n"
          ]
        }
      ],
      "source": [
        "from sklearn.linear_model import LogisticRegression\n",
        "from sklearn.ensemble import RandomForestClassifier\n",
        "from sklearn.model_selection import train_test_split\n",
        "\n",
        "# Split the data into training and testing sets\n",
        "X_train_selected, X_test_selected, y_train, y_test = train_test_split(X_processed_df_selected, y, test_size=0.2, random_state=42)\n",
        "\n",
        "# Instantiate and train a Logistic Regression model\n",
        "log_reg_model = LogisticRegression(max_iter=1000)\n",
        "log_reg_model.fit(X_train_selected, y_train)\n",
        "\n",
        "# Instantiate and train a RandomForestClassifier model\n",
        "rf_model = RandomForestClassifier(random_state=42)\n",
        "rf_model.fit(X_train_selected, y_train)\n",
        "\n",
        "print(\"Logistic Regression model trained successfully.\")\n",
        "print(\"Random Forest model trained successfully.\")"
      ]
    },
    {
      "cell_type": "markdown",
      "metadata": {
        "id": "61ca01db"
      },
      "source": [
        "## Model evaluation\n",
        "\n",
        "### Subtask:\n",
        "Evaluate the performance of the trained Logistic Regression and Random Forest models on the testing data using appropriate metrics (e.g., accuracy, precision, recall, F1-score).\n"
      ]
    },
    {
      "cell_type": "markdown",
      "metadata": {
        "id": "b1d13ae7"
      },
      "source": [
        "**Reasoning**:\n",
        "Import the necessary metrics and evaluate the performance of both models on the test set.\n",
        "\n"
      ]
    },
    {
      "cell_type": "code",
      "execution_count": 6,
      "metadata": {
        "colab": {
          "base_uri": "https://localhost:8080/"
        },
        "id": "a8ef1fac",
        "outputId": "9ef1fe5f-37df-43c7-a4fc-13b782302a5d"
      },
      "outputs": [
        {
          "name": "stdout",
          "output_type": "stream",
          "text": [
            "Logistic Regression Model Performance:\n",
            "Accuracy: 0.9293\n",
            "Precision: 0.9424\n",
            "Recall: 0.9205\n",
            "F1-score: 0.9313\n",
            "\n",
            "Random Forest Model Performance:\n",
            "Accuracy: 0.9293\n",
            "Precision: 0.9424\n",
            "Recall: 0.9205\n",
            "F1-score: 0.9313\n",
            "\n",
            "Model Comparison:\n",
            "Both models have similar accuracy.\n",
            "Both models have similar F1-scores.\n"
          ]
        }
      ],
      "source": [
        "from sklearn.metrics import accuracy_score, precision_score, recall_score, f1_score\n",
        "\n",
        "# Evaluate Logistic Regression model\n",
        "y_pred_log_reg = log_reg_model.predict(X_test_selected)\n",
        "\n",
        "accuracy_log_reg = accuracy_score(y_test, y_pred_log_reg)\n",
        "precision_log_reg = precision_score(y_test, y_pred_log_reg, pos_label='Extrovert')\n",
        "recall_log_reg = recall_score(y_test, y_pred_log_reg, pos_label='Extrovert')\n",
        "f1_log_reg = f1_score(y_test, y_pred_log_reg, pos_label='Extrovert')\n",
        "\n",
        "print(\"Logistic Regression Model Performance:\")\n",
        "print(f\"Accuracy: {accuracy_log_reg:.4f}\")\n",
        "print(f\"Precision: {precision_log_reg:.4f}\")\n",
        "print(f\"Recall: {recall_log_reg:.4f}\")\n",
        "print(f\"F1-score: {f1_log_reg:.4f}\")\n",
        "\n",
        "# Evaluate Random Forest model\n",
        "y_pred_rf = rf_model.predict(X_test_selected)\n",
        "\n",
        "accuracy_rf = accuracy_score(y_test, y_pred_rf)\n",
        "precision_rf = precision_score(y_test, y_pred_rf, pos_label='Extrovert')\n",
        "recall_rf = recall_score(y_test, y_pred_rf, pos_label='Extrovert')\n",
        "f1_rf = f1_score(y_test, y_pred_rf, pos_label='Extrovert')\n",
        "\n",
        "print(\"\\nRandom Forest Model Performance:\")\n",
        "print(f\"Accuracy: {accuracy_rf:.4f}\")\n",
        "print(f\"Precision: {precision_rf:.4f}\")\n",
        "print(f\"Recall: {recall_rf:.4f}\")\n",
        "print(f\"F1-score: {f1_rf:.4f}\")\n",
        "\n",
        "# Briefly compare the performance\n",
        "print(\"\\nModel Comparison:\")\n",
        "if accuracy_log_reg > accuracy_rf:\n",
        "    print(\"Logistic Regression has slightly higher accuracy.\")\n",
        "elif accuracy_rf > accuracy_log_reg:\n",
        "    print(\"Random Forest has slightly higher accuracy.\")\n",
        "else:\n",
        "    print(\"Both models have similar accuracy.\")\n",
        "\n",
        "if f1_log_reg > f1_rf:\n",
        "    print(\"Logistic Regression has a higher F1-score.\")\n",
        "elif f1_rf > f1_log_reg:\n",
        "    print(\"Random Forest has a higher F1-score.\")\n",
        "else:\n",
        "    print(\"Both models have similar F1-scores.\")"
      ]
    },
    {
      "cell_type": "markdown",
      "metadata": {
        "id": "37682f53"
      },
      "source": [
        "## Hyperparameter tuning (optional)\n",
        "\n",
        "### Subtask:\n",
        "Optionally tune the hyperparameters of the selected models (Logistic Regression and Random Forest) to potentially improve their performance.\n"
      ]
    },
    {
      "cell_type": "markdown",
      "metadata": {
        "id": "e83fffd2"
      },
      "source": [
        "**Reasoning**:\n",
        "Import necessary modules for hyperparameter tuning and define parameter grids for Logistic Regression and Random Forest.\n",
        "\n"
      ]
    },
    {
      "cell_type": "code",
      "execution_count": 7,
      "metadata": {
        "colab": {
          "base_uri": "https://localhost:8080/"
        },
        "id": "5a671687",
        "outputId": "80041ad2-72c4-4c0f-bc50-d2c19a3213e2"
      },
      "outputs": [
        {
          "name": "stdout",
          "output_type": "stream",
          "text": [
            "Parameter grids defined for Logistic Regression and Random Forest.\n"
          ]
        }
      ],
      "source": [
        "from sklearn.model_selection import GridSearchCV\n",
        "from sklearn.linear_model import LogisticRegression\n",
        "from sklearn.ensemble import RandomForestClassifier\n",
        "\n",
        "# Define parameter grid for Logistic Regression\n",
        "log_reg_param_grid = {\n",
        "    'C': [0.001, 0.01, 0.1, 1, 10, 100],\n",
        "    'penalty': ['l2'], # 'l1' and 'elasticnet' require solver='liblinear' or 'saga' and might need different parameters\n",
        "    'solver': ['liblinear', 'saga']\n",
        "}\n",
        "\n",
        "# Define parameter grid for Random Forest\n",
        "rf_param_grid = {\n",
        "    'n_estimators': [100, 200, 300],\n",
        "    'max_depth': [None, 10, 20, 30],\n",
        "    'min_samples_split': [2, 5, 10],\n",
        "    'min_samples_leaf': [1, 2, 4]\n",
        "}\n",
        "\n",
        "print(\"Parameter grids defined for Logistic Regression and Random Forest.\")"
      ]
    },
    {
      "cell_type": "markdown",
      "metadata": {
        "id": "7b411ceb"
      },
      "source": [
        "**Reasoning**:\n",
        "Instantiate and fit GridSearchCV for the Logistic Regression model to find the best hyperparameters.\n",
        "\n"
      ]
    },
    {
      "cell_type": "code",
      "execution_count": 8,
      "metadata": {
        "colab": {
          "base_uri": "https://localhost:8080/"
        },
        "id": "ba029f1a",
        "outputId": "d68fe3a1-0f2f-4412-97ab-6facafe350b9"
      },
      "outputs": [
        {
          "name": "stdout",
          "output_type": "stream",
          "text": [
            "GridSearchCV for Logistic Regression completed.\n"
          ]
        }
      ],
      "source": [
        "# Instantiate GridSearchCV for Logistic Regression\n",
        "grid_search_log_reg = GridSearchCV(estimator=LogisticRegression(max_iter=1000),\n",
        "                                   param_grid=log_reg_param_grid,\n",
        "                                   cv=5, # Using 5-fold cross-validation\n",
        "                                   scoring='f1_macro', # Using F1-macro as the scoring metric\n",
        "                                   n_jobs=-1) # Use all available cores\n",
        "\n",
        "# Fit GridSearchCV to the training data with selected features\n",
        "grid_search_log_reg.fit(X_train_selected, y_train)\n",
        "\n",
        "print(\"GridSearchCV for Logistic Regression completed.\")"
      ]
    },
    {
      "cell_type": "markdown",
      "metadata": {
        "id": "6bbd90ed"
      },
      "source": [
        "**Reasoning**:\n",
        "Instantiate and fit GridSearchCV for the Random Forest model to find the best hyperparameters.\n",
        "\n"
      ]
    },
    {
      "cell_type": "code",
      "execution_count": 9,
      "metadata": {
        "colab": {
          "base_uri": "https://localhost:8080/"
        },
        "id": "15a02b1d",
        "outputId": "261be0da-526f-4613-9835-2439f1744d89"
      },
      "outputs": [
        {
          "name": "stdout",
          "output_type": "stream",
          "text": [
            "GridSearchCV for Random Forest completed.\n"
          ]
        }
      ],
      "source": [
        "# Instantiate GridSearchCV for Random Forest\n",
        "grid_search_rf = GridSearchCV(estimator=RandomForestClassifier(random_state=42),\n",
        "                              param_grid=rf_param_grid,\n",
        "                              cv=5, # Using 5-fold cross-validation\n",
        "                              scoring='f1_macro', # Using F1-macro as the scoring metric\n",
        "                              n_jobs=-1) # Use all available cores\n",
        "\n",
        "# Fit GridSearchCV to the training data with selected features\n",
        "grid_search_rf.fit(X_train_selected, y_train)\n",
        "\n",
        "print(\"GridSearchCV for Random Forest completed.\")"
      ]
    },
    {
      "cell_type": "markdown",
      "metadata": {
        "id": "6ebdab24"
      },
      "source": [
        "**Reasoning**:\n",
        "Print the best hyperparameters and corresponding scores for both models and store the best models.\n",
        "\n"
      ]
    },
    {
      "cell_type": "code",
      "execution_count": 10,
      "metadata": {
        "colab": {
          "base_uri": "https://localhost:8080/",
          "height": 243
        },
        "id": "801ba6d5",
        "outputId": "76b86da0-5a57-497c-b5d7-32609764f723"
      },
      "outputs": [
        {
          "name": "stdout",
          "output_type": "stream",
          "text": [
            "\n",
            "Best hyperparameters for Logistic Regression:\n"
          ]
        },
        {
          "data": {
            "text/plain": [
              "{'C': 1, 'penalty': 'l2', 'solver': 'liblinear'}"
            ]
          },
          "metadata": {},
          "output_type": "display_data"
        },
        {
          "name": "stdout",
          "output_type": "stream",
          "text": [
            "Best F1-macro score for Logistic Regression: 0.9358\n",
            "\n",
            "Best hyperparameters for Random Forest:\n"
          ]
        },
        {
          "data": {
            "text/plain": [
              "{'max_depth': None,\n",
              " 'min_samples_leaf': 1,\n",
              " 'min_samples_split': 2,\n",
              " 'n_estimators': 100}"
            ]
          },
          "metadata": {},
          "output_type": "display_data"
        },
        {
          "name": "stdout",
          "output_type": "stream",
          "text": [
            "Best F1-macro score for Random Forest: 0.9358\n",
            "\n",
            "Best models stored.\n"
          ]
        }
      ],
      "source": [
        "# Print the best hyperparameters and best score for Logistic Regression\n",
        "print(\"\\nBest hyperparameters for Logistic Regression:\")\n",
        "display(grid_search_log_reg.best_params_)\n",
        "print(f\"Best F1-macro score for Logistic Regression: {grid_search_log_reg.best_score_:.4f}\")\n",
        "\n",
        "# Store the best Logistic Regression model\n",
        "best_log_reg_model = grid_search_log_reg.best_estimator_\n",
        "\n",
        "# Print the best hyperparameters and best score for Random Forest\n",
        "print(\"\\nBest hyperparameters for Random Forest:\")\n",
        "display(grid_search_rf.best_params_)\n",
        "print(f\"Best F1-macro score for Random Forest: {grid_search_rf.best_score_:.4f}\")\n",
        "\n",
        "# Store the best Random Forest model\n",
        "best_rf_model = grid_search_rf.best_estimator_\n",
        "\n",
        "print(\"\\nBest models stored.\")"
      ]
    },
    {
      "cell_type": "markdown",
      "metadata": {
        "id": "bade9ef6"
      },
      "source": [
        "## Prediction\n",
        "\n",
        "### Subtask:\n",
        "Use the trained models to make predictions on new data.\n"
      ]
    },
    {
      "cell_type": "markdown",
      "metadata": {
        "id": "893209f9"
      },
      "source": [
        "**Reasoning**:\n",
        "Use the tuned models to make predictions on the test data and display the first 5 predictions.\n",
        "\n"
      ]
    },
    {
      "cell_type": "code",
      "execution_count": 11,
      "metadata": {
        "colab": {
          "base_uri": "https://localhost:8080/",
          "height": 138
        },
        "id": "7012ca6a",
        "outputId": "69799857-e802-41ef-fd56-2335cbe8fe6b"
      },
      "outputs": [
        {
          "name": "stdout",
          "output_type": "stream",
          "text": [
            "First 5 predictions from tuned Logistic Regression model:\n"
          ]
        },
        {
          "data": {
            "text/plain": [
              "array(['Introvert', 'Extrovert', 'Introvert', 'Introvert', 'Introvert'],\n",
              "      dtype=object)"
            ]
          },
          "metadata": {},
          "output_type": "display_data"
        },
        {
          "name": "stdout",
          "output_type": "stream",
          "text": [
            "\n",
            "First 5 predictions from tuned Random Forest model:\n"
          ]
        },
        {
          "data": {
            "text/plain": [
              "array(['Introvert', 'Extrovert', 'Introvert', 'Introvert', 'Introvert'],\n",
              "      dtype=object)"
            ]
          },
          "metadata": {},
          "output_type": "display_data"
        }
      ],
      "source": [
        "# Use the best Logistic Regression model to make predictions on the test set\n",
        "y_pred_log_reg_tuned = best_log_reg_model.predict(X_test_selected)\n",
        "\n",
        "# Use the best Random Forest model to make predictions on the test set\n",
        "y_pred_rf_tuned = best_rf_model.predict(X_test_selected)\n",
        "\n",
        "# Display the first 5 predictions from both models\n",
        "print(\"First 5 predictions from tuned Logistic Regression model:\")\n",
        "display(y_pred_log_reg_tuned[:5])\n",
        "\n",
        "print(\"\\nFirst 5 predictions from tuned Random Forest model:\")\n",
        "display(y_pred_rf_tuned[:5])"
      ]
    },
    {
      "cell_type": "markdown",
      "metadata": {
        "id": "fc9046ca"
      },
      "source": [
        "## Model evaluation\n",
        "\n",
        "### Subtask:\n",
        "Evaluate the performance of the tuned Logistic Regression and Random Forest models on the testing data using appropriate metrics (e.g., accuracy, precision, recall, F1-score) and compare their performance with the initial models.\n"
      ]
    },
    {
      "cell_type": "markdown",
      "metadata": {
        "id": "6c02aa66"
      },
      "source": [
        "**Reasoning**:\n",
        "Calculate and print the evaluation metrics for the tuned Logistic Regression and Random Forest models on the test set and compare them to the initial models to assess the impact of hyperparameter tuning.\n",
        "\n"
      ]
    },
    {
      "cell_type": "code",
      "execution_count": 12,
      "metadata": {
        "colab": {
          "base_uri": "https://localhost:8080/"
        },
        "id": "eb76c1cd",
        "outputId": "07f20ce3-041a-4b5a-e133-dd2943808d05"
      },
      "outputs": [
        {
          "name": "stdout",
          "output_type": "stream",
          "text": [
            "Tuned Logistic Regression Model Performance:\n",
            "Accuracy: 0.9293\n",
            "Precision: 0.9424\n",
            "Recall: 0.9205\n",
            "F1-score: 0.9313\n",
            "\n",
            "Tuned Random Forest Model Performance:\n",
            "Accuracy: 0.9293\n",
            "Precision: 0.9424\n",
            "Recall: 0.9205\n",
            "F1-score: 0.9313\n",
            "\n",
            "Comparison of Tuned vs. Initial Models:\n",
            "\n",
            "Logistic Regression:\n",
            "Initial Accuracy: 0.9293, Tuned Accuracy: 0.9293\n",
            "Initial Precision: 0.9424, Tuned Precision: 0.9424\n",
            "Initial Recall: 0.9205, Tuned Recall: 0.9205\n",
            "Initial F1-score: 0.9313, Tuned F1-score: 0.9313\n",
            "Hyperparameter tuning did not improve Logistic Regression performance significantly.\n",
            "\n",
            "Random Forest:\n",
            "Initial Accuracy: 0.9293, Tuned Accuracy: 0.9293\n",
            "Initial Precision: 0.9424, Tuned Precision: 0.9424\n",
            "Initial Recall: 0.9205, Tuned Recall: 0.9205\n",
            "Initial F1-score: 0.9313, Tuned F1-score: 0.9313\n",
            "Hyperparameter tuning did not improve Random Forest performance significantly.\n"
          ]
        }
      ],
      "source": [
        "from sklearn.metrics import accuracy_score, precision_score, recall_score, f1_score\n",
        "\n",
        "# Calculate metrics for tuned Logistic Regression model\n",
        "accuracy_log_reg_tuned = accuracy_score(y_test, y_pred_log_reg_tuned)\n",
        "precision_log_reg_tuned = precision_score(y_test, y_pred_log_reg_tuned, pos_label='Extrovert')\n",
        "recall_log_reg_tuned = recall_score(y_test, y_pred_log_reg_tuned, pos_label='Extrovert')\n",
        "f1_log_reg_tuned = f1_score(y_test, y_pred_log_reg_tuned, pos_label='Extrovert')\n",
        "\n",
        "# Print metrics for tuned Logistic Regression model\n",
        "print(\"Tuned Logistic Regression Model Performance:\")\n",
        "print(f\"Accuracy: {accuracy_log_reg_tuned:.4f}\")\n",
        "print(f\"Precision: {precision_log_reg_tuned:.4f}\")\n",
        "print(f\"Recall: {recall_log_reg_tuned:.4f}\")\n",
        "print(f\"F1-score: {f1_log_reg_tuned:.4f}\")\n",
        "\n",
        "# Calculate metrics for tuned Random Forest model\n",
        "accuracy_rf_tuned = accuracy_score(y_test, y_pred_rf_tuned)\n",
        "precision_rf_tuned = precision_score(y_test, y_pred_rf_tuned, pos_label='Extrovert')\n",
        "recall_rf_tuned = recall_score(y_test, y_pred_rf_tuned, pos_label='Extrovert')\n",
        "f1_rf_tuned = f1_score(y_test, y_pred_rf_tuned, pos_label='Extrovert')\n",
        "\n",
        "# Print metrics for tuned Random Forest model\n",
        "print(\"\\nTuned Random Forest Model Performance:\")\n",
        "print(f\"Accuracy: {accuracy_rf_tuned:.4f}\")\n",
        "print(f\"Precision: {precision_rf_tuned:.4f}\")\n",
        "print(f\"Recall: {recall_rf_tuned:.4f}\")\n",
        "print(f\"F1-score: {f1_rf_tuned:.4f}\")\n",
        "\n",
        "# Compare performance with initial models\n",
        "print(\"\\nComparison of Tuned vs. Initial Models:\")\n",
        "\n",
        "print(\"\\nLogistic Regression:\")\n",
        "print(f\"Initial Accuracy: {accuracy_log_reg:.4f}, Tuned Accuracy: {accuracy_log_reg_tuned:.4f}\")\n",
        "print(f\"Initial Precision: {precision_log_reg:.4f}, Tuned Precision: {precision_log_reg_tuned:.4f}\")\n",
        "print(f\"Initial Recall: {recall_log_reg:.4f}, Tuned Recall: {recall_log_reg_tuned:.4f}\")\n",
        "print(f\"Initial F1-score: {f1_log_reg:.4f}, Tuned F1-score: {f1_log_reg_tuned:.4f}\")\n",
        "print(\"Hyperparameter tuning improved Logistic Regression performance.\" if f1_log_reg_tuned > f1_log_reg else \"Hyperparameter tuning did not improve Logistic Regression performance significantly.\")\n",
        "\n",
        "print(\"\\nRandom Forest:\")\n",
        "print(f\"Initial Accuracy: {accuracy_rf:.4f}, Tuned Accuracy: {accuracy_rf_tuned:.4f}\")\n",
        "print(f\"Initial Precision: {precision_rf:.4f}, Tuned Precision: {precision_rf_tuned:.4f}\")\n",
        "print(f\"Initial Recall: {recall_rf:.4f}, Tuned Recall: {recall_rf_tuned:.4f}\")\n",
        "print(f\"Initial F1-score: {f1_rf:.4f}, Tuned F1-score: {f1_rf_tuned:.4f}\")\n",
        "print(\"Hyperparameter tuning improved Random Forest performance.\" if f1_rf_tuned > f1_rf else \"Hyperparameter tuning did not improve Random Forest performance significantly.\")"
      ]
    },
    {
      "cell_type": "markdown",
      "metadata": {
        "id": "0d64259a"
      },
      "source": [
        "## Prediction on New Data\n",
        "\n",
        "### Subtask:\n",
        "Create a sample input with new values and use the tuned models to predict the personality type."
      ]
    },
    {
      "cell_type": "code",
      "execution_count": 14,
      "metadata": {
        "colab": {
          "base_uri": "https://localhost:8080/"
        },
        "id": "e66f2a3c",
        "outputId": "d0dda5d7-dd75-4593-f827-a3c0da850a38"
      },
      "outputs": [
        {
          "name": "stdout",
          "output_type": "stream",
          "text": [
            "Prediction from tuned Logistic Regression model: Introvert\n",
            "Prediction from tuned Random Forest model: Introvert\n"
          ]
        }
      ],
      "source": [
        "# Create a sample input with new values\n",
        "# Ensure the column names match the original DataFrame before preprocessing\n",
        "sample_input = pd.DataFrame({\n",
        "    'Time_spent_Alone': [7.0],\n",
        "    'Stage_fear': ['Yes'],\n",
        "    'Social_event_attendance': [2.0],\n",
        "    'Going_outside': [3.0],\n",
        "    'Drained_after_socializing': ['Yes'],\n",
        "    'Friends_circle_size': [5.0],\n",
        "    'Post_frequency': [1.0]\n",
        "})\n",
        "\n",
        "# Apply the same preprocessing pipeline to the sample input\n",
        "# We need to fit the preprocessor again on the original data to ensure it has the correct mappings for categorical features\n",
        "# and then transform the sample input.\n",
        "\n",
        "# First, re-create the preprocessor pipeline to include the imputation step and one-hot encode categorical features based on the full dataset\n",
        "preprocessor_new = ColumnTransformer(\n",
        "    transformers=[\n",
        "        ('num', SimpleImputer(strategy='mean'), numerical_cols), # Impute numerical with mean from training data\n",
        "        ('cat', OneHotEncoder(handle_unknown='ignore'), categorical_cols.drop('Personality', errors='ignore')) # One-hot encode categorical\n",
        "    ],\n",
        "    remainder='passthrough'\n",
        ")\n",
        "\n",
        "# Create a new pipeline including preprocessing and feature selection\n",
        "full_pipeline = Pipeline(steps=[('preprocessor', preprocessor_new)])\n",
        "\n",
        "# Fit the pipeline on the original data (X) to learn the transformations\n",
        "full_pipeline.fit(X)\n",
        "\n",
        "# Transform the sample input using the fitted pipeline\n",
        "sample_input_processed = full_pipeline.transform(sample_input)\n",
        "\n",
        "# Convert the processed sample input back to a DataFrame with correct column names\n",
        "# Get feature names after one-hot encoding and imputation\n",
        "processed_feature_names = full_pipeline.named_steps['preprocessor'].get_feature_names_out()\n",
        "sample_input_processed_df = pd.DataFrame(sample_input_processed, columns=processed_feature_names)\n",
        "\n",
        "# Correct the column names to match the expected format (remove the prefix added by ColumnTransformer)\n",
        "sample_input_processed_df.columns = [col.replace('num__', '').replace('cat__', '') for col in sample_input_processed_df.columns]\n",
        "\n",
        "# Select only the features that were used for training the models\n",
        "sample_input_selected = sample_input_processed_df[selected_features]\n",
        "\n",
        "# Use the best tuned Logistic Regression model to predict\n",
        "prediction_log_reg = best_log_reg_model.predict(sample_input_selected)\n",
        "\n",
        "# Use the best tuned Random Forest model to predict\n",
        "prediction_rf = best_rf_model.predict(sample_input_selected)\n",
        "\n",
        "print(f\"Prediction from tuned Logistic Regression model: {prediction_log_reg[0]}\")\n",
        "print(f\"Prediction from tuned Random Forest model: {prediction_rf[0]}\")"
      ]
    },
    {
      "cell_type": "markdown",
      "metadata": {
        "id": "c6a253d1"
      },
      "source": [
        "## Save Models\n",
        "\n",
        "### Subtask:\n",
        "Save the trained Logistic Regression and Random Forest models to files for future use."
      ]
    },
    {
      "cell_type": "markdown",
      "metadata": {
        "id": "10a5cef6"
      },
      "source": [
        "**Reasoning**:\n",
        "Import the `joblib` library and save the `best_log_reg_model` and `best_rf_model` to `.joblib` files."
      ]
    },
    {
      "cell_type": "code",
      "execution_count": 15,
      "metadata": {
        "colab": {
          "base_uri": "https://localhost:8080/"
        },
        "id": "c29ab014",
        "outputId": "d9e2e348-219a-4209-d98a-45197e71c555"
      },
      "outputs": [
        {
          "name": "stdout",
          "output_type": "stream",
          "text": [
            "Tuned Logistic Regression and Random Forest models saved successfully.\n"
          ]
        }
      ],
      "source": [
        "import joblib\n",
        "\n",
        "# Save the best Logistic Regression model\n",
        "joblib.dump(best_log_reg_model, 'best_logistic_regression_model.joblib')\n",
        "\n",
        "# Save the best Random Forest model\n",
        "joblib.dump(best_rf_model, 'best_random_forest_model.joblib')\n",
        "\n",
        "print(\"Tuned Logistic Regression and Random Forest models saved successfully.\")"
      ]
    },
    {
      "cell_type": "markdown",
      "metadata": {
        "id": "d782e502"
      },
      "source": [
        "## Summary:\n",
        "\n",
        "### Data Analysis Key Findings\n",
        "\n",
        "*   The dataset initially contained missing values in several columns, including 'Time\\_spent\\_Alone', 'Stage\\_fear', 'Social\\_event\\_attendance', 'Going\\_outside', 'Drained\\_after\\_socializing', 'Friends\\_circle\\_size', and 'Post\\_frequency'.\n",
        "*   Missing numerical values were imputed using the mean, and categorical features ('Stage\\_fear', 'Drained\\_after\\_socializing') were one-hot encoded. Numerical features were scaled.\n",
        "*   Feature importance analysis using a Logistic Regression model showed that 'Drained\\_after\\_socializing' and 'Stage\\_fear' (including their one-hot encoded categories) had the highest importance.\n",
        "*   Based on mean feature importance, the selected features for modeling were 'Drained\\_after\\_socializing\\_No', 'Drained\\_after\\_socializing\\_Yes', 'Stage\\_fear\\_No', and 'Stage\\_fear\\_Yes'.\n",
        "*   Both initial Logistic Regression and Random Forest models trained on the selected features achieved an accuracy of 0.9293, a precision of 0.9424, a recall of 0.9205, and an F1-score of 0.9313 on the test set.\n",
        "*   Hyperparameter tuning using GridSearchCV did not significantly improve the performance of either the Logistic Regression or Random Forest models, with the tuned models achieving the same performance metrics as the initial models on the test set.\n",
        "\n",
        "### Insights or Next Steps\n",
        "\n",
        "*   The selected features ('Drained\\_after\\_socializing' and 'Stage\\_fear') appear to be highly predictive of personality type (Introvert/Extrovert) based on the model performance.\n",
        "*   Further investigation into other features or potential feature engineering might be needed if higher model performance is required, as hyperparameter tuning on the current feature set did not yield improvements.\n"
      ]
    },
    {
      "cell_type": "markdown",
      "metadata": {
        "id": "41c7c779"
      },
      "source": [
        "**Reasoning**:\n",
        "Create a sample input DataFrame, preprocess it using the defined pipeline, and then use the best-tuned Logistic Regression and Random Forest models to predict the personality type for this new input."
      ]
    },
    {
      "cell_type": "code",
      "execution_count": null,
      "metadata": {
        "id": "db05db6b"
      },
      "outputs": [],
      "source": [
        "%%writefile requirements.txt\n",
        "pandas==2.2.2\n",
        "scikit-learn==1.6.1\n",
        "joblib==1.5.1\n",
        "matplotlib==3.7.1\n",
        "seaborn==0.13.1\n",
        "streamlit==1.35.0 # Added streamlit as the user intends to use it"
      ]
    }
  ],
  "metadata": {
    "colab": {
      "provenance": []
    },
    "kernelspec": {
      "display_name": "Python 3",
      "name": "python3"
    },
    "language_info": {
      "name": "python"
    }
  },
  "nbformat": 4,
  "nbformat_minor": 0
}
